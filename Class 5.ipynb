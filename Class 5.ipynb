{
 "cells": [
  {
   "cell_type": "code",
   "execution_count": 1,
   "metadata": {},
   "outputs": [
    {
     "name": "stdout",
     "output_type": "stream",
     "text": [
      "33\n"
     ]
    }
   ],
   "source": [
    "def addnum() :\n",
    "    firstnum = '3'\n",
    "    secondnum = '3'\n",
    "    result= firstnum + secondnum \n",
    "    print(result)\n",
    "    \n",
    "addnum()                         #you have to call function"
   ]
  },
  {
   "cell_type": "code",
   "execution_count": 2,
   "metadata": {},
   "outputs": [
    {
     "name": "stdout",
     "output_type": "stream",
     "text": [
      "6\n"
     ]
    }
   ],
   "source": [
    "def addnum() :\n",
    "    firstnum = 3\n",
    "    secondnum = 3\n",
    "    result= firstnum + secondnum \n",
    "    print(result)\n",
    "    \n",
    "addnum()"
   ]
  },
  {
   "cell_type": "code",
   "execution_count": 4,
   "metadata": {},
   "outputs": [
    {
     "name": "stdout",
     "output_type": "stream",
     "text": [
      "30\n"
     ]
    }
   ],
   "source": [
    "def addnum(firstnum, secondnum) :      #def is the keyword that defines the particular function   #parameters\n",
    "    result = firstnum + secondnum      # general syntax : def functionname roundbrackets and colon , aur phr identation k andar function ki body\n",
    "    print(result)                      #parameters ko values dene k lye you take the help of arguments jo k function call k time pe pass krte hain\n",
    "    \n",
    "addnum(10,20)                                  #argument     10 pass huga firstnum walay argument mei aur 20 dosre ko pass huga\n",
    "#function call krte hue values de skte hain aap"
   ]
  },
  {
   "cell_type": "code",
   "execution_count": 5,
   "metadata": {},
   "outputs": [
    {
     "name": "stdout",
     "output_type": "stream",
     "text": [
      "5\n"
     ]
    }
   ],
   "source": [
    "#scope of function: identation k sath wala \n",
    "#jb aap next line left side ya identation se bahir ajao tu function ki body se b bahir ajaoge\n",
    "def addnum(firstnum,secondnum) :\n",
    "    result= firstnum + secondnum \n",
    "    print(result)\n",
    "    \n",
    "firstnum = 2\n",
    "secondnum = 3      #ye data function k scope se bahir ka data ha\n",
    "\n",
    "addnum(firstnum,secondnum)"
   ]
  },
  {
   "cell_type": "code",
   "execution_count": 6,
   "metadata": {},
   "outputs": [
    {
     "data": {
      "text/plain": [
       "' #local scope : function ki body k andar code majood ha\\n#Global scope : function ki body k bahir ha  #global scope mei jo ek variable declare kroge, aur uski jo value aap initialize \\nkrte hain wo basically local available hoti ha\\n'"
      ]
     },
     "execution_count": 6,
     "metadata": {},
     "output_type": "execute_result"
    }
   ],
   "source": [
    "\"\"\" #local scope : function ki body k andar code majood ha\n",
    "#Global scope : function ki body k bahir ha  #global scope mei jo ek variable declare kroge, aur uski jo value aap initialize \n",
    "krte hain wo basically local available hoti ha\n",
    "\"\"\" "
   ]
  },
  {
   "cell_type": "code",
   "execution_count": 7,
   "metadata": {},
   "outputs": [
    {
     "name": "stdout",
     "output_type": "stream",
     "text": [
      "5\n"
     ]
    }
   ],
   "source": [
    "def addnum(num1,num2) :\n",
    "    result= num1 + num2  \n",
    "    print(result)\n",
    "    \n",
    "firstnum = 2\n",
    "secondnum = 3      \n",
    "\n",
    "addnum(firstnum,secondnum)"
   ]
  },
  {
   "cell_type": "code",
   "execution_count": 8,
   "metadata": {},
   "outputs": [
    {
     "name": "stdout",
     "output_type": "stream",
     "text": [
      "5\n"
     ]
    }
   ],
   "source": [
    "firstnum = 2\n",
    "secondnum = 3\n",
    "\n",
    "def addnum(num1,num2) :\n",
    "    result= num1 + num2  \n",
    "    print(result)\n",
    "          \n",
    "addnum(firstnum,secondnum)"
   ]
  },
  {
   "cell_type": "code",
   "execution_count": 10,
   "metadata": {},
   "outputs": [],
   "source": [
    "#python interpreter language ha\n",
    "#globally firstnum ko define krdia whose value is 2 phr globally secondnum ko define kya whose value is 3\n",
    "#High order functions (Closures)"
   ]
  },
  {
   "cell_type": "code",
   "execution_count": 12,
   "metadata": {},
   "outputs": [
    {
     "name": "stdout",
     "output_type": "stream",
     "text": [
      "20\n"
     ]
    }
   ],
   "source": [
    "\"\"\" function requirement: js naam se neche maine call krwate hue arguments pass kiye hain aur sath unki values b pass ki hain \n",
    "tu ab function define hutay hue parameters k wahi naam hou jo neche arguments k lye use hue hain\"\"\"\n",
    "def addnum(firstnum,secondnum) :   \n",
    "    result= firstnum + secondnum  \n",
    "    print(result)\n",
    "          \n",
    "addnum(firstnum=10,secondnum=10)  #Function calling k time hi data pass krrhe hain #globally data available nhi ha\n",
    "#hardcoded"
   ]
  },
  {
   "cell_type": "code",
   "execution_count": 13,
   "metadata": {},
   "outputs": [
    {
     "name": "stdout",
     "output_type": "stream",
     "text": [
      "-4\n"
     ]
    }
   ],
   "source": [
    "firstnum = 8\n",
    "secondnum = 4\n",
    "\n",
    "def addnum(secondnum,firstnum) :\n",
    "    result= firstnum - secondnum  \n",
    "    print(result)\n",
    "          \n",
    "addnum(firstnum,secondnum)"
   ]
  },
  {
   "cell_type": "code",
   "execution_count": 14,
   "metadata": {},
   "outputs": [
    {
     "name": "stdout",
     "output_type": "stream",
     "text": [
      "4\n"
     ]
    }
   ],
   "source": [
    "firstnum = 8\n",
    "secondnum = 4\n",
    "\n",
    "def addnum(secondnum,firstnum) :\n",
    "    result= secondnum - firstnum  \n",
    "    print(result)\n",
    "          \n",
    "addnum(firstnum,secondnum)"
   ]
  },
  {
   "cell_type": "code",
   "execution_count": 17,
   "metadata": {},
   "outputs": [
    {
     "name": "stdout",
     "output_type": "stream",
     "text": [
      "30\n"
     ]
    }
   ],
   "source": [
    "firstnum= 10\n",
    "\n",
    "def defarg(ten , twenty=20) :\n",
    "    result = ten + twenty\n",
    "    print(result)\n",
    "\n",
    "defarg(firstnum)"
   ]
  },
  {
   "cell_type": "code",
   "execution_count": 18,
   "metadata": {},
   "outputs": [
    {
     "ename": "SyntaxError",
     "evalue": "non-default argument follows default argument (<ipython-input-18-cb74592a12cd>, line 4)",
     "output_type": "error",
     "traceback": [
      "\u001b[1;36m  File \u001b[1;32m\"<ipython-input-18-cb74592a12cd>\"\u001b[1;36m, line \u001b[1;32m4\u001b[0m\n\u001b[1;33m    def coursedetail(institute, language=\"Python\", dur) :    #default argument\u001b[0m\n\u001b[1;37m                    ^\u001b[0m\n\u001b[1;31mSyntaxError\u001b[0m\u001b[1;31m:\u001b[0m non-default argument follows default argument\n"
     ]
    }
   ],
   "source": [
    "inst= \"SMIT\"       #Saylani Mass IT Training    #global scope\n",
    "\n",
    "\n",
    "def coursedetail(institute, language=\"Python\", dur) :    #default argument\n",
    "    print(institute + \" \" + language + \" \" + dur)\n",
    "    \n",
    "coursedetail(inst,dur=\"3 months\")                           #initializing at calling"
   ]
  },
  {
   "cell_type": "code",
   "execution_count": 19,
   "metadata": {},
   "outputs": [
    {
     "name": "stdout",
     "output_type": "stream",
     "text": [
      "SMIT Python 3 months\n"
     ]
    }
   ],
   "source": [
    " #Error: non-default argument follows default argument \n",
    "#default arguments function definition mei sb se last mei den \n",
    "inst= \"SMIT\"       \n",
    "\n",
    "\n",
    "def coursedetail(institute, dur, language=\"Python\") :   \n",
    "    print(institute + \" \" + language + \" \" + dur)\n",
    "    \n",
    "coursedetail(inst,dur=\"3 months\")                           "
   ]
  },
  {
   "cell_type": "code",
   "execution_count": 21,
   "metadata": {},
   "outputs": [
    {
     "ename": "SyntaxError",
     "evalue": "positional argument follows keyword argument (<ipython-input-21-37d02c0f5f12>, line 4)",
     "output_type": "error",
     "traceback": [
      "\u001b[1;36m  File \u001b[1;32m\"<ipython-input-21-37d02c0f5f12>\"\u001b[1;36m, line \u001b[1;32m4\u001b[0m\n\u001b[1;33m    func(name='Marium', fname=\"Arif\", \"mariumarif1999@gmail.com\", \"1234567\", \"Karachi\")\u001b[0m\n\u001b[1;37m                                     ^\u001b[0m\n\u001b[1;31mSyntaxError\u001b[0m\u001b[1;31m:\u001b[0m positional argument follows keyword argument\n"
     ]
    }
   ],
   "source": [
    "def func(name,fname,*param):\n",
    "    print(\"my name is \" + name + \" \" + fname + param)\n",
    "    \n",
    "func(name='Marium', fname=\"Arif\", \"mariumarif1999@gmail.com\", \"1234567\", \"Karachi\")"
   ]
  },
  {
   "cell_type": "code",
   "execution_count": 23,
   "metadata": {},
   "outputs": [
    {
     "name": "stdout",
     "output_type": "stream",
     "text": [
      "my name is Marium Arif\n",
      "mariumarif1999@gmail.com\n",
      "1234567\n",
      "Karachi\n"
     ]
    }
   ],
   "source": [
    "def func(name,fname,*params):\n",
    "    print(\"my name is \" + name + \" \" + fname)\n",
    "    \n",
    "    for param in params:\n",
    "        print(param)\n",
    "    \n",
    "func('Marium', \"Arif\", \"mariumarif1999@gmail.com\", \"1234567\", \"Karachi\")"
   ]
  },
  {
   "cell_type": "code",
   "execution_count": 26,
   "metadata": {},
   "outputs": [
    {
     "name": "stdout",
     "output_type": "stream",
     "text": [
      "my name is Marium Arif\n",
      "email:mariumarif1999@gmail.com\n",
      "phone:1234567\n",
      "city:Karachi\n",
      "my name is Marium Arif\n",
      "email:mariumarif1999@gmail.com\n",
      "phone:1234567\n",
      "city:Karachi\n"
     ]
    }
   ],
   "source": [
    "def func(name,fname,**params):     #for key value pair you use double sterick in parameters\n",
    "    print(\"my name is \" + name + \" \" + fname)\n",
    "    \n",
    "    for key,value in params.items():       #.item() key aur value ka pair le k ajata ha, for extracting key and value at same time\n",
    "        print(key + ':' + value)\n",
    "    \n",
    "func(name='Marium', fname=\"Arif\", email=\"mariumarif1999@gmail.com\", phone=\"1234567\", city=\"Karachi\")\n",
    "#or\n",
    "func('Marium', \"Arif\", email=\"mariumarif1999@gmail.com\", phone=\"1234567\", city=\"Karachi\")"
   ]
  },
  {
   "cell_type": "code",
   "execution_count": 29,
   "metadata": {},
   "outputs": [
    {
     "name": "stdout",
     "output_type": "stream",
     "text": [
      "3\n"
     ]
    }
   ],
   "source": [
    "def rfunc():\n",
    "    num1=1\n",
    "    num2=2\n",
    "    result= num1 + num2\n",
    "    return result\n",
    "#return jo b return krrha ha usse agar aapne function k scope k bahir use krna ha tu usse ek variable mei daal k store krlo\n",
    "#Aur phr us variable ko use krlo\n",
    "\n",
    "a = rfunc()\n",
    "print(a)\n",
    "    "
   ]
  },
  {
   "cell_type": "code",
   "execution_count": 30,
   "metadata": {},
   "outputs": [],
   "source": [
    "#Hum function ko value de rhe hain, tu we use argument\n",
    "#Humay function se value le rhe hain, tu we use keyword return within the scope of function\n",
    "#function call variable mei store huna zarori ha jahan jahan return use horha ha"
   ]
  },
  {
   "cell_type": "code",
   "execution_count": 34,
   "metadata": {},
   "outputs": [
    {
     "name": "stdout",
     "output_type": "stream",
     "text": [
      "3\n",
      "7\n",
      "10\n"
     ]
    }
   ],
   "source": [
    "def r1func():\n",
    "    num1=1\n",
    "    num2=2\n",
    "    result= num1 + num2\n",
    "    return result\n",
    "\n",
    "b = r1func()\n",
    "print(b)\n",
    "\n",
    "def r2func():\n",
    "    num3=3\n",
    "    num4=4\n",
    "    result2= num3 + num4\n",
    "    return result2\n",
    "\n",
    "c = r2func()\n",
    "print(c)\n",
    "\n",
    "finalresult= b+c\n",
    "print(finalresult)"
   ]
  },
  {
   "cell_type": "code",
   "execution_count": 35,
   "metadata": {},
   "outputs": [
    {
     "name": "stdout",
     "output_type": "stream",
     "text": [
      "What is your name?Marium\n",
      "Marium is enrolled in SMIT Python 3 months\n"
     ]
    }
   ],
   "source": [
    "#function k andar dosra function call krna\n",
    "#Function se bs ek hi cheez return hoti ha (single cheez return hoti ha)\n",
    "\n",
    "#  \"User se name input lo, aur print krao name is enrolled in Institute, lang, duration\"\n",
    "# Marium is enrolled in SMIT Python 3 months\n",
    "\n",
    "def courseinfo():\n",
    "    institute=\"SMIT\"\n",
    "    language= \"Python\"\n",
    "    duration= \"3 months\"\n",
    "    \n",
    "    return(institute + \" \" + language + \" \" + duration)\n",
    "\n",
    "def userinfo():\n",
    "    name = input(\"What is your name?\")\n",
    "    result = name + \" is enrolled in \" + courseinfo()\n",
    "    return result \n",
    "\n",
    "wholeinfo= userinfo()\n",
    "print(wholeinfo)"
   ]
  },
  {
   "cell_type": "code",
   "execution_count": 37,
   "metadata": {},
   "outputs": [],
   "source": [
    "#While can be used as conditional loop\n",
    "#Execution time of while loop is faster than the for loop\n",
    "\n",
    "alphabet = 'a'\n",
    "\n",
    "while alphabet!='a' : \n",
    "    myans = input('enter your alphabet')\n",
    "    print(myans)(\"Enter correct alphabet or press a to exit\")\n",
    "    \n"
   ]
  },
  {
   "cell_type": "code",
   "execution_count": null,
   "metadata": {},
   "outputs": [],
   "source": [
    "#Todo means value ko insert kr ske usko phr delete krske, DELETE ALL KR SKE MULTIPLE VALUES DELETE KR SKE\n"
   ]
  }
 ],
 "metadata": {
  "kernelspec": {
   "display_name": "Python 3",
   "language": "python",
   "name": "python3"
  },
  "language_info": {
   "codemirror_mode": {
    "name": "ipython",
    "version": 3
   },
   "file_extension": ".py",
   "mimetype": "text/x-python",
   "name": "python",
   "nbconvert_exporter": "python",
   "pygments_lexer": "ipython3",
   "version": "3.7.4"
  }
 },
 "nbformat": 4,
 "nbformat_minor": 2
}
