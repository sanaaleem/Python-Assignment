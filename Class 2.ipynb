{
 "cells": [
  {
   "cell_type": "code",
   "execution_count": 5,
   "metadata": {},
   "outputs": [
    {
     "name": "stdout",
     "output_type": "stream",
     "text": [
      "Enter your age: 19\n",
      "allowed to ride\n"
     ]
    }
   ],
   "source": [
    "age = int(input(\"Enter your age: \"));\n",
    "#Indentation: Space dena after if\n",
    "if age >= 18 :\n",
    "  print(\"allowed to ride\")\n",
    "else :\n",
    "  print(\"not allowed\")"
   ]
  },
  {
   "cell_type": "code",
   "execution_count": 8,
   "metadata": {},
   "outputs": [
    {
     "name": "stdout",
     "output_type": "stream",
     "text": [
      "your answer is correct\n"
     ]
    }
   ],
   "source": [
    "x = 10;\n",
    "y= 12;\n",
    "a=30;\n",
    "b=10;\n",
    "\n",
    "#if x+y == a-b :\n",
    "if x+y != a-b :\n",
    "    print(\"your answer is correct\")\n",
    "else :\n",
    "    print(\"Wrong answer\")"
   ]
  },
  {
   "cell_type": "code",
   "execution_count": 11,
   "metadata": {},
   "outputs": [
    {
     "name": "stdout",
     "output_type": "stream",
     "text": [
      "Enter your percentage %: 75\n",
      "A\n"
     ]
    }
   ],
   "source": [
    "#elif means else if and it is use for more than 2 conditions\n",
    "per = int(input(\"Enter your percentage %: \"));\n",
    "if per >= 80 and per <= 100 :\n",
    "    print(\"A+\")\n",
    "elif per >= 70 and per < 80 :\n",
    "    print(\"A\")\n",
    "elif per >= 60 and per <70 :\n",
    "    print(\"B\")\n",
    "elif per >= 0 and per < 60 :\n",
    "    print(\"Fail\")\n",
    "else :\n",
    "    print(\"You have given inappropiate percentage\")"
   ]
  },
  {
   "cell_type": "code",
   "execution_count": 12,
   "metadata": {},
   "outputs": [
    {
     "name": "stdout",
     "output_type": "stream",
     "text": [
      "11\n"
     ]
    }
   ],
   "source": [
    "a=5;\n",
    "b=6;\n",
    "c=7;\n",
    "d=7;\n",
    "e=9;\n",
    "g=10;\n",
    "f=11;\n",
    "x=11;\n",
    "y=12;\n",
    "h=0;\n",
    "\n",
    "if c==d:\n",
    "    if x==y:\n",
    "        g=h\n",
    "        print(g)\n",
    "    elif a==b:\n",
    "        g=h\n",
    "        print(g)\n",
    "    else:\n",
    "        e=f\n",
    "        print(e)\n",
    "else:\n",
    "    e=f\n",
    "    print(e)\n",
    "        "
   ]
  },
  {
   "cell_type": "code",
   "execution_count": 13,
   "metadata": {},
   "outputs": [
    {
     "name": "stdout",
     "output_type": "stream",
     "text": [
      "['Ali', 'Haider', 'Salman', 25, False, 0.9]\n"
     ]
    }
   ],
   "source": [
    "arr = [\"Ali\",\"Haider\",\"Salman\",25,False,0.9] #group of different elements\n",
    "print(arr)"
   ]
  },
  {
   "cell_type": "code",
   "execution_count": 14,
   "metadata": {},
   "outputs": [
    {
     "name": "stdout",
     "output_type": "stream",
     "text": [
      "Haider\n"
     ]
    }
   ],
   "source": [
    "print(arr[1])"
   ]
  },
  {
   "cell_type": "code",
   "execution_count": 15,
   "metadata": {},
   "outputs": [
    {
     "name": "stdout",
     "output_type": "stream",
     "text": [
      "25\n"
     ]
    }
   ],
   "source": [
    "print(arr[3])"
   ]
  },
  {
   "cell_type": "code",
   "execution_count": 16,
   "metadata": {},
   "outputs": [
    {
     "data": {
      "text/plain": [
       "'Ali'"
      ]
     },
     "execution_count": 16,
     "metadata": {},
     "output_type": "execute_result"
    }
   ],
   "source": [
    "arr[0]"
   ]
  },
  {
   "cell_type": "code",
   "execution_count": 17,
   "metadata": {},
   "outputs": [
    {
     "data": {
      "text/plain": [
       "['Ali', 'Haider', 'Salman', 25, False, 0.9, 'Umar']"
      ]
     },
     "execution_count": 17,
     "metadata": {},
     "output_type": "execute_result"
    }
   ],
   "source": [
    "arr.append(\"Umar\")\n",
    "arr"
   ]
  },
  {
   "cell_type": "code",
   "execution_count": 19,
   "metadata": {},
   "outputs": [
    {
     "name": "stdout",
     "output_type": "stream",
     "text": [
      "['Ali', 'Haider', 'Salman', 25, False, 0.9, 'Umar', 'Bilal', 'Noman']\n"
     ]
    }
   ],
   "source": [
    "arr1= arr + [\"Bilal\" , \"Noman\"]\n",
    "print(arr1)"
   ]
  },
  {
   "cell_type": "code",
   "execution_count": 20,
   "metadata": {},
   "outputs": [
    {
     "name": "stdout",
     "output_type": "stream",
     "text": [
      "['Ali', 'Haider', 'Raza', 'Salman', 25, False, 0.9, 'Umar', 'Bilal', 'Noman']\n"
     ]
    }
   ],
   "source": [
    "arr1.insert(2, \"Raza\")\n",
    "print(arr1)"
   ]
  },
  {
   "cell_type": "code",
   "execution_count": 21,
   "metadata": {},
   "outputs": [
    {
     "name": "stdout",
     "output_type": "stream",
     "text": [
      "['Ali', 'Haider', 'Raza', 'Salman', 25, True, 0.9, 'Umar', 'Bilal', 'Noman']\n"
     ]
    }
   ],
   "source": [
    "arr1[5]= True\n",
    "print(arr1)"
   ]
  },
  {
   "cell_type": "code",
   "execution_count": 22,
   "metadata": {},
   "outputs": [
    {
     "name": "stdout",
     "output_type": "stream",
     "text": [
      "['Raza', 'Salman', 25, True, 0.9]\n"
     ]
    }
   ],
   "source": [
    "arr2= arr1[2 : 7]   #starts at 2 and ends at 6(n-1)\n",
    "print(arr2)"
   ]
  },
  {
   "cell_type": "code",
   "execution_count": 23,
   "metadata": {},
   "outputs": [
    {
     "data": {
      "text/plain": [
       "['Ali', 'Haider', 'Raza', 'Salman', 25, True, 0.9, 'Umar', 'Bilal', 'Noman']"
      ]
     },
     "execution_count": 23,
     "metadata": {},
     "output_type": "execute_result"
    }
   ],
   "source": [
    "arr1"
   ]
  },
  {
   "cell_type": "code",
   "execution_count": 24,
   "metadata": {},
   "outputs": [
    {
     "name": "stdout",
     "output_type": "stream",
     "text": [
      "['Ali', 'Haider', 'Salman', 25, False]\n"
     ]
    }
   ],
   "source": [
    "arr3= arr[:5]\n",
    "print(arr3)"
   ]
  },
  {
   "cell_type": "code",
   "execution_count": 25,
   "metadata": {},
   "outputs": [
    {
     "data": {
      "text/plain": [
       "['Ali', 'Haider', 'Salman', 25, False, 0.9, 'Umar']"
      ]
     },
     "execution_count": 25,
     "metadata": {},
     "output_type": "execute_result"
    }
   ],
   "source": [
    "arr"
   ]
  },
  {
   "cell_type": "code",
   "execution_count": 26,
   "metadata": {},
   "outputs": [
    {
     "name": "stdout",
     "output_type": "stream",
     "text": [
      "['Ali', 'Salman', 25, False, 0.9, 'Umar']\n"
     ]
    }
   ],
   "source": [
    "del arr[1]\n",
    "print(arr)"
   ]
  },
  {
   "cell_type": "code",
   "execution_count": 27,
   "metadata": {},
   "outputs": [
    {
     "name": "stdout",
     "output_type": "stream",
     "text": [
      "['Ali', 25, False, 0.9, 'Umar']\n"
     ]
    }
   ],
   "source": [
    "arr.remove(\"Salman\")\n",
    "print(arr)"
   ]
  },
  {
   "cell_type": "code",
   "execution_count": 28,
   "metadata": {},
   "outputs": [
    {
     "name": "stdout",
     "output_type": "stream",
     "text": [
      "Umar\n"
     ]
    }
   ],
   "source": [
    "arr4 = arr.pop()   #End ka element utha k le ata ha\n",
    "print(arr4)"
   ]
  },
  {
   "cell_type": "code",
   "execution_count": null,
   "metadata": {},
   "outputs": [],
   "source": []
  }
 ],
 "metadata": {
  "kernelspec": {
   "display_name": "Python 3",
   "language": "python",
   "name": "python3"
  },
  "language_info": {
   "codemirror_mode": {
    "name": "ipython",
    "version": 3
   },
   "file_extension": ".py",
   "mimetype": "text/x-python",
   "name": "python",
   "nbconvert_exporter": "python",
   "pygments_lexer": "ipython3",
   "version": "3.7.4"
  }
 },
 "nbformat": 4,
 "nbformat_minor": 2
}
