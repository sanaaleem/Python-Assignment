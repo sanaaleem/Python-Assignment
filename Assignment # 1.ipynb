{
 "cells": [
  {
   "cell_type": "code",
   "execution_count": 13,
   "metadata": {},
   "outputs": [
    {
     "name": "stdout",
     "output_type": "stream",
     "text": [
      "           Twinkle, twinkle, little star,\n",
      "                 How I wonder what you are!\n",
      "                       Up above the world so high,\n",
      "                       Like a diamond in the sky.\n",
      "           Twinkle, twinkle, little star,\n",
      "                 How I wonder what you are\n"
     ]
    }
   ],
   "source": [
    "#SANA\n",
    "print(\"           Twinkle, twinkle, little star,\")\n",
    "print(\"                 How I wonder what you are!\")\n",
    "print(\"                       Up above the world so high,\")\n",
    "print(\"                       Like a diamond in the sky.\")\n",
    "print(\"           Twinkle, twinkle, little star,\")\n",
    "print(\"                 How I wonder what you are\")"
   ]
  },
  {
   "cell_type": "code",
   "execution_count": 14,
   "metadata": {},
   "outputs": [
    {
     "name": "stdout",
     "output_type": "stream",
     "text": [
      "Python version\n",
      "3.7.4 (default, Aug  9 2019, 18:34:13) [MSC v.1915 64 bit (AMD64)]\n"
     ]
    }
   ],
   "source": [
    "import sys\n",
    "print(\"Python version\")\n",
    "print (sys.version)"
   ]
  },
  {
   "cell_type": "code",
   "execution_count": 15,
   "metadata": {},
   "outputs": [
    {
     "name": "stdout",
     "output_type": "stream",
     "text": [
      "Current date and time : \n",
      "2019-11-03 16:00:08\n"
     ]
    }
   ],
   "source": [
    "import datetime\n",
    "now = datetime.datetime.now()\n",
    "print (\"Current date and time : \")\n",
    "print (now.strftime('%Y-%m-%d %H:%M:%S'))"
   ]
  },
  {
   "cell_type": "code",
   "execution_count": 17,
   "metadata": {},
   "outputs": [
    {
     "name": "stdout",
     "output_type": "stream",
     "text": [
      "Enter the value of radius of a circle: 3\n",
      "The area of the circle is:  28.274333882308138\n"
     ]
    }
   ],
   "source": [
    "import math\n",
    "radius= input(\"Enter the value of radius of a circle: \")\n",
    "area= math.pi * int(radius)**2\n",
    "print(\"The area of the circle is: \", area)"
   ]
  },
  {
   "cell_type": "code",
   "execution_count": 18,
   "metadata": {},
   "outputs": [
    {
     "name": "stdout",
     "output_type": "stream",
     "text": [
      "Enter your first name: Sana\n",
      "Enter your last name: Aleem\n",
      "Aleem Sana\n"
     ]
    }
   ],
   "source": [
    "FirstName= input(\"Enter your first name: \")\n",
    "LastName= input(\"Enter your last name: \")\n",
    "print(LastName + \" \" + FirstName)"
   ]
  },
  {
   "cell_type": "code",
   "execution_count": 19,
   "metadata": {},
   "outputs": [
    {
     "name": "stdout",
     "output_type": "stream",
     "text": [
      "Enter first number: 2\n",
      "Enter second number: 6\n",
      "8\n"
     ]
    }
   ],
   "source": [
    "Number1= int(input(\"Enter first number: \"))\n",
    "Number2= int(input(\"Enter second number: \"))\n",
    "result= Number1 + Number2\n",
    "print(result)"
   ]
  },
  {
   "cell_type": "code",
   "execution_count": 20,
   "metadata": {},
   "outputs": [],
   "source": []
  },
  {
   "cell_type": "code",
   "execution_count": 21,
   "metadata": {},
   "outputs": [],
   "source": []
  },
  {
   "cell_type": "code",
   "execution_count": null,
   "metadata": {},
   "outputs": [],
   "source": []
  }
 ],
 "metadata": {
  "kernelspec": {
   "display_name": "Python 3",
   "language": "python",
   "name": "python3"
  },
  "language_info": {
   "codemirror_mode": {
    "name": "ipython",
    "version": 3
   },
   "file_extension": ".py",
   "mimetype": "text/x-python",
   "name": "python",
   "nbconvert_exporter": "python",
   "pygments_lexer": "ipython3",
   "version": "3.7.4"
  }
 },
 "nbformat": 4,
 "nbformat_minor": 2
}
