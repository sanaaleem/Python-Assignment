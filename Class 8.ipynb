{
 "cells": [
  {
   "cell_type": "code",
   "execution_count": 22,
   "metadata": {},
   "outputs": [
    {
     "name": "stdout",
     "output_type": "stream",
     "text": [
      "No\n",
      "20 kilometers per litre\n",
      "The car name is Audi.The car model is A8.The car color is Brown.\n",
      "13 kilometers per litre\n",
      "Yes\n"
     ]
    },
    {
     "data": {
      "text/plain": [
       "'mercedes'"
      ]
     },
     "execution_count": 22,
     "metadata": {},
     "output_type": "execute_result"
    }
   ],
   "source": [
    "# Inheritance\n",
    "\n",
    "class Car():\n",
    "    def __init__(self,name,model,color):\n",
    "        self.name = name\n",
    "        self.model = model\n",
    "        self.color = color\n",
    "        \n",
    "    def average(self,kilo):\n",
    "        print(\"{} kilometers per litre\".format(kilo))\n",
    "        \n",
    "    def tank(self):\n",
    "        print(\"Yes\")\n",
    "        \n",
    "class ElectricCar(Car):\n",
    "    def __init__(self,name,model,color):\n",
    "        super().__init__(name,model,color)\n",
    "        \n",
    "    def tank(self):\n",
    "        print(\"No\")\n",
    "        \n",
    "    def get_description(self):\n",
    "        print(\"The car name is {}.The car model is {}.The car color is {}.\".format(self.name,self.model,self.color))\n",
    "    \n",
    "car1 = Car(\"Audi\",\"A3\",\"Black\") #instance of class\n",
    "\n",
    "new_car = ElectricCar(\"Audi\",\"A8\",\"Brown\")\n",
    "\n",
    "new_car.tank()\n",
    "new_car.average(20)\n",
    "new_car.get_description()\n",
    "\n",
    "car1.average(13)\n",
    "car1.tank()\n",
    "car1.name = \"mercedes\"\n",
    "car1.name"
   ]
  },
  {
   "cell_type": "code",
   "execution_count": 20,
   "metadata": {},
   "outputs": [],
   "source": [
    "# Encapsulation\n",
    "# Attribute aur methods ko aik sath encapsulate krdeti ha\n",
    "# Security purpose\n",
    "# Class k ander use krskte hain class k bahir na kr paae ye option b huta ha\n",
    "# Access modifiers hutay hain: PUBLIC, PROTECTED, PRIVATE\n"
   ]
  },
  {
   "cell_type": "code",
   "execution_count": 24,
   "metadata": {},
   "outputs": [
    {
     "name": "stdout",
     "output_type": "stream",
     "text": [
      "30 kilometers per litre\n",
      "30 kilometers per litre\n",
      "35 kilometers per litre\n"
     ]
    }
   ],
   "source": [
    "class NewCar():\n",
    "    def __init__(self):     \n",
    "        self.__maxAverage = 30  # double underscore is lye use huta ha k us attribute ko koi directly change ya override na kr pae jb tk wo class mei ,method k through change na hou\n",
    "    \n",
    "    def displayaverage(self):\n",
    "        print(\"{} kilometers per litre\".format(self.__maxAverage))\n",
    "        \n",
    "    def updateAverage(self, updatedvalue):  #within the class change huta ha. class k bahir nhi ho paega change\n",
    "        self.__maxAverage = updatedvalue\n",
    "        \n",
    "obj = NewCar()\n",
    "\n",
    "obj.displayaverage()\n",
    "\n",
    "obj.__maxAverage = 60  #MODIFY KRNE PR B MODIFY NHI HUA KYU K CLASS K BAHIR SE KRRHE HAIN\n",
    "obj.displayaverage()\n",
    "\n",
    "obj.updateAverage(35)\n",
    "obj.displayaverage()\n"
   ]
  },
  {
   "cell_type": "code",
   "execution_count": 25,
   "metadata": {},
   "outputs": [
    {
     "name": "stdout",
     "output_type": "stream",
     "text": [
      "The capital of Pakistan is Islamabad. Population of Pakistan is 20 crore\n",
      "The capital of USA is Washington DC and population of USA is 40 crore\n"
     ]
    }
   ],
   "source": [
    "# POLYMORPHISM\n",
    "\n",
    "#ONE NAME MULTIPLE FORMS\n",
    "\n",
    "class Pakistan():\n",
    "    def detail(self):\n",
    "        print(\"The capital of Pakistan is Islamabad. Population of Pakistan is 20 crore\")\n",
    "    \n",
    "class USA():\n",
    "    def detail(self):\n",
    "        print(\"The capital of USA is Washington DC and population of USA is 40 crore\")\n",
    "        \n",
    "def description(country):\n",
    "    country.detail()\n",
    "    \n",
    "pak = Pakistan()\n",
    "usa = USA()\n",
    "\n",
    "description(pak)\n",
    "description(usa)"
   ]
  },
  {
   "cell_type": "code",
   "execution_count": 27,
   "metadata": {},
   "outputs": [
    {
     "name": "stdout",
     "output_type": "stream",
     "text": [
      "11\n"
     ]
    }
   ],
   "source": [
    "# Overloading: Compile time pe run huti ha, compile time pe error deti ha\n",
    "#Ek hi class mei 2 same naam k methods majood hou\n",
    "#Same name k methods hou lekin parameters mei difference hou\n",
    "# Overriding: Run time pe run huti ha, run time pe error deti ha\n",
    "#Parent aur child dono mei same naam ka method define ha, tou wo konsa method run krega\n",
    "\n",
    "class OverloadingDemo():\n",
    "    def sum(self,a,b):\n",
    "        print(a+b)\n",
    "        \n",
    "    def sum(self,a,b,c):\n",
    "        print(a+b+c)\n",
    "        \n",
    "obj1= OverloadingDemo()\n",
    "\n",
    "obj1.sum(2,4,5)"
   ]
  },
  {
   "cell_type": "code",
   "execution_count": 29,
   "metadata": {},
   "outputs": [
    {
     "name": "stdout",
     "output_type": "stream",
     "text": [
      "6\n"
     ]
    }
   ],
   "source": [
    "class OverloadingDemo():\n",
    "    def sum(self,a=None,b=None, c=None):\n",
    "        if a!=None and b!=None and c!=None:\n",
    "            print(a+b+c)\n",
    "        elif a!=None and b!=None:\n",
    "            print(a+b)\n",
    "        \n",
    "obj1= OverloadingDemo()\n",
    "\n",
    "obj1.sum(2,4)"
   ]
  },
  {
   "cell_type": "code",
   "execution_count": 32,
   "metadata": {},
   "outputs": [
    {
     "name": "stdout",
     "output_type": "stream",
     "text": [
      "8\n",
      "5\n"
     ]
    }
   ],
   "source": [
    "#from abc \n",
    "a= len(\"Muhammad\")\n",
    "print(a)\n",
    "b = len([1,2,4,5,7])\n",
    "print(b)"
   ]
  },
  {
   "cell_type": "code",
   "execution_count": 45,
   "metadata": {},
   "outputs": [
    {
     "name": "stdout",
     "output_type": "stream",
     "text": [
      "he gives 4 tola\n",
      "valima is going on\n"
     ]
    }
   ],
   "source": [
    "# Abstraction\n",
    "\n",
    "#abc is a complete module\n",
    "#ABC is a Abstract base class\n",
    "\n",
    "from abc import ABC, abstractmethod\n",
    "\n",
    "class Nikkah(ABC):\n",
    "    @abstractmethod #decorator #abstract method child class isko lazmi use kre\n",
    "    def haqmehar(self): #method\n",
    "        pass\n",
    "    \n",
    "class Human1(Nikkah): #human class is the child class of abstract base class\n",
    "    def haqmehar(self,tola): #method\n",
    "        print(\"he gives \" + str(tola) + \" tola\")\n",
    "        \n",
    "    def valima(self):\n",
    "        print(\"valima is going on\")\n",
    "\n",
    "obj2= Human1()\n",
    "\n",
    "\n",
    "obj2.haqmehar(4)\n",
    "obj2.valima()        \n",
    "    "
   ]
  },
  {
   "cell_type": "code",
   "execution_count": 46,
   "metadata": {},
   "outputs": [
    {
     "ename": "TypeError",
     "evalue": "Can't instantiate abstract class Human1 with abstract methods haqmehar",
     "output_type": "error",
     "traceback": [
      "\u001b[1;31m---------------------------------------------------------------------------\u001b[0m",
      "\u001b[1;31mTypeError\u001b[0m                                 Traceback (most recent call last)",
      "\u001b[1;32m<ipython-input-46-911912d53e4d>\u001b[0m in \u001b[0;36m<module>\u001b[1;34m\u001b[0m\n\u001b[0;32m     13\u001b[0m         \u001b[0mprint\u001b[0m\u001b[1;33m(\u001b[0m\u001b[1;34m\"valima is going on\"\u001b[0m\u001b[1;33m)\u001b[0m\u001b[1;33m\u001b[0m\u001b[1;33m\u001b[0m\u001b[0m\n\u001b[0;32m     14\u001b[0m \u001b[1;33m\u001b[0m\u001b[0m\n\u001b[1;32m---> 15\u001b[1;33m \u001b[0mobj2\u001b[0m\u001b[1;33m=\u001b[0m \u001b[0mHuman1\u001b[0m\u001b[1;33m(\u001b[0m\u001b[1;33m)\u001b[0m\u001b[1;33m\u001b[0m\u001b[1;33m\u001b[0m\u001b[0m\n\u001b[0m\u001b[0;32m     16\u001b[0m \u001b[1;33m\u001b[0m\u001b[0m\n\u001b[0;32m     17\u001b[0m \u001b[1;33m\u001b[0m\u001b[0m\n",
      "\u001b[1;31mTypeError\u001b[0m: Can't instantiate abstract class Human1 with abstract methods haqmehar"
     ]
    }
   ],
   "source": [
    "from abc import ABC, abstractmethod\n",
    "\n",
    "class Nikkah(ABC):\n",
    "    @abstractmethod \n",
    "    def haqmehar(self): \n",
    "        pass\n",
    "    \n",
    "class Human1(Nikkah): \n",
    "    #def haqmehar(self,tola): \n",
    "        #print(\"he gives \" + str(tola) + \" tola\")\n",
    "        \n",
    "    def valima(self):\n",
    "        print(\"valima is going on\")\n",
    "\n",
    "obj2= Human1()\n",
    "\n",
    "\n",
    "obj2.haqmehar(4)\n",
    "obj2.valima()        \n",
    "    "
   ]
  },
  {
   "cell_type": "code",
   "execution_count": null,
   "metadata": {},
   "outputs": [],
   "source": []
  }
 ],
 "metadata": {
  "kernelspec": {
   "display_name": "Python 3",
   "language": "python",
   "name": "python3"
  },
  "language_info": {
   "codemirror_mode": {
    "name": "ipython",
    "version": 3
   },
   "file_extension": ".py",
   "mimetype": "text/x-python",
   "name": "python",
   "nbconvert_exporter": "python",
   "pygments_lexer": "ipython3",
   "version": "3.7.4"
  }
 },
 "nbformat": 4,
 "nbformat_minor": 2
}
