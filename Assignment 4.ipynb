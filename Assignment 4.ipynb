{
 "cells": [
  {
   "cell_type": "code",
   "execution_count": 1,
   "metadata": {},
   "outputs": [
    {
     "name": "stdout",
     "output_type": "stream",
     "text": [
      "The person's First Name is Marium\n",
      "The person's Last Name is Arif\n",
      "The person's Age is 19\n",
      "The person's City is Karachi\n",
      "The person's Qualification is Intermediate\n"
     ]
    }
   ],
   "source": [
    "\"\"\"\n",
    "Question1:\n",
    "Use a dictionary to store information about a person you know. Store their first name, last name, age, and the city in which\n",
    "they live. You should have keys such as first_name, last_name, age, and city. Print each piece of information stored in your\n",
    "dictionary. Add a new key value pair about qualification then update the qualification value to high academic level then \n",
    "delete it.\n",
    "\"\"\"\n",
    "#Person's Information:\n",
    "Person = { \"First Name\" : \"Marium\",\n",
    "           \"Last Name\" : \"Arif\",\n",
    "           \"Age\" : \"19\",\n",
    "           \"City\" : \"Karachi\",\n",
    "         }                                                        #Created Dictionary\n",
    "for each_key, each_value in Person.items() :\n",
    "    print(\"The person's \"+ each_key + \" is \" + each_value)\n",
    "    \n",
    "Person[\"Qualification\"]=\"Intermediate\"                            #Added qualification value as Intermediate\n",
    "\n",
    "\n",
    "print(\"The person's Qualification\" + \" is \" + Person[\"Qualification\"])\n"
   ]
  },
  {
   "cell_type": "code",
   "execution_count": 28,
   "metadata": {},
   "outputs": [
    {
     "name": "stdout",
     "output_type": "stream",
     "text": [
      "The person's First Name is Marium\n",
      "The person's Last Name is Arif\n",
      "The person's Age is 19\n",
      "The person's City is Karachi\n",
      "The person's Qualification is High Academic Level\n"
     ]
    }
   ],
   "source": [
    "Person[\"Qualification\"]=\"High Academic Level\"    #updated the qualification value to high academic level\n",
    "\n",
    "for each_key, each_value in Person.items() :\n",
    "    print(\"The person's \"+ each_key + \" is \" + each_value)"
   ]
  },
  {
   "cell_type": "code",
   "execution_count": 29,
   "metadata": {},
   "outputs": [],
   "source": [
    "del Person['Qualification']                     #deleting Qualification key and value by using del keyword"
   ]
  },
  {
   "cell_type": "code",
   "execution_count": 30,
   "metadata": {},
   "outputs": [
    {
     "name": "stdout",
     "output_type": "stream",
     "text": [
      "The person's First Name is Marium\n",
      "The person's Last Name is Arif\n",
      "The person's Age is 19\n",
      "The person's City is Karachi\n"
     ]
    }
   ],
   "source": [
    "for each_key, each_value in Person.items() :\n",
    "    print(\"The person's \"+ each_key + \" is \" + each_value)"
   ]
  },
  {
   "cell_type": "code",
   "execution_count": 51,
   "metadata": {},
   "outputs": [
    {
     "name": "stdout",
     "output_type": "stream",
     "text": [
      "DUBAI\n",
      "UAE\n",
      "3.137 million(2018)\n",
      "The tallest building in the world known as Burj Khalifa is located in Dubai.\n",
      "\n",
      "\n",
      "KARACHI\n",
      "Pakistan\n",
      "14.91 million (2017)\n",
      "It is the largest city of Pakistan and also it is the Sixth largest city in the world by city population.\n",
      "\n",
      "\n",
      "LONDON\n",
      "UK\n",
      "8.9 million (2018)\n",
      "London is the capital and largest city of England and the United Kingdom.\n"
     ]
    }
   ],
   "source": [
    "\"\"\"\n",
    "Question2:\n",
    "Make a dictionary called cities. Use the names of three cities as keys in your dictionary. Create a dictionary of \n",
    "information about each city and include the country that the city is in, its approximate population, and one fact about that\n",
    "city. The keys for each city’s dictionary should be something like country, population, and fact. Print the name of each\n",
    "city and all of the information you have stored about it.\n",
    "\"\"\"\n",
    "cities = {\n",
    "          'Dubai': {\n",
    "                        'Country' : 'UAE',\n",
    "                        'Population' :  '3.137 million(2018)',\n",
    "                        'Fact' : 'The tallest building in the world known as Burj Khalifa is located in Dubai.'\n",
    "                     },\n",
    "    \n",
    "          'Karachi':  {\n",
    "                        'Country' : 'Pakistan',\n",
    "                        'Population' : '14.91 million (2017)',\n",
    "                        'Fact' : 'It is the largest city of Pakistan and also it is the Sixth largest city in the world by city population.'\n",
    "                     },\n",
    "    \n",
    "        'London': {\n",
    "                        'Country' : 'UK',\n",
    "                        'Population' : '8.9 million (2018)',\n",
    "                        'Fact' : 'London is the capital and largest city of England and the United Kingdom.'\n",
    "                     }\n",
    "         }\n",
    "print('DUBAI')\n",
    "print(cities['Dubai']['Country']) \n",
    "print(cities['Dubai']['Population']) \n",
    "print(cities['Dubai']['Fact'])\n",
    "print('\\n')\n",
    "print('KARACHI')\n",
    "print(cities['Karachi']['Country']) \n",
    "print(cities['Karachi']['Population']) \n",
    "print(cities['Karachi']['Fact'])\n",
    "print('\\n')\n",
    "print('LONDON')\n",
    "print(cities['London']['Country']) \n",
    "print(cities['London']['Population']) \n",
    "print(cities['London']['Fact'])\n"
   ]
  },
  {
   "cell_type": "code",
   "execution_count": 2,
   "metadata": {},
   "outputs": [
    {
     "name": "stdout",
     "output_type": "stream",
     "text": [
      "Enter your age: 2\n",
      "Your Ticket is Free\n",
      "Enter Finished if tickets are finished else write Not Finished : Not Finished\n",
      "Enter your age: 3\n",
      "Your Ticket Cost is $10\n",
      "Enter Finished if tickets are finished else write Not Finished : Not Finished\n",
      "Enter your age: 12\n",
      "Your Ticket Cost is $10\n",
      "Enter Finished if tickets are finished else write Not Finished : Not Finished\n",
      "Enter your age: 14\n",
      "Your Ticket Cost is $15\n",
      "Enter Finished if tickets are finished else write Not Finished : Finished\n"
     ]
    }
   ],
   "source": [
    "\"\"\"\n",
    "Question3:\n",
    "A movie theater charges different ticket prices depending on a person’s age. If a person is under the age of 3, the ticket \n",
    "is free; if they are between 3 and 12, the ticket is $10; and if they are over age 12, the ticket is $15. Write a loop in \n",
    "which you ask users their age, and then tell them the cost of their movie ticket.\n",
    "\"\"\"\n",
    "#Tickets\n",
    "tickets_finished = False\n",
    "while (tickets_finished == False) : \n",
    "    age = int(input('Enter your age: '))\n",
    "    if age < 3 :\n",
    "        print('Your Ticket is Free')\n",
    "    elif age <= 12 :\n",
    "        print('Your Ticket Cost is $10')\n",
    "    elif age > 12 :\n",
    "        print('Your Ticket Cost is $15')\n",
    "        \n",
    "    a = input(\"Enter Finished if tickets are finished else write Not Finished : \")\n",
    "    if (a == 'Finished') :\n",
    "        tickets_finished = True\n",
    "    else : \n",
    "        tickets_finished = False\n",
    "        "
   ]
  },
  {
   "cell_type": "code",
   "execution_count": 6,
   "metadata": {},
   "outputs": [
    {
     "name": "stdout",
     "output_type": "stream",
     "text": [
      "Enter the name of your favorite book : A Study in Scarlet\n",
      "One of My Favorite Books is A Study in Scarlet\n"
     ]
    }
   ],
   "source": [
    "\"\"\"\n",
    "Question4:\n",
    "Write a function called favorite_book() that accepts one parameter, title. The function should print a message, such as One\n",
    "of my favorite books is Alice in Wonderland. Call the function, making sure to include a book title as an argument in the \n",
    "function call.\n",
    "\"\"\"\n",
    "def favorite_book(title) : \n",
    "    print(\"One of My Favorite Books is\", title)\n",
    "\n",
    "booktitle = input('Enter the name of your favorite book : ')\n",
    "favorite_book(booktitle)"
   ]
  },
  {
   "cell_type": "code",
   "execution_count": 7,
   "metadata": {},
   "outputs": [
    {
     "name": "stdout",
     "output_type": "stream",
     "text": [
      "29\n",
      "Guess the correct number : 34\n",
      "Your guess is greater than the correct number\n",
      "Guess the correct number : 25\n",
      "Your guess is smaller than the correct number\n",
      "Guess the correct number : 21\n",
      "Your guess is smaller than the correct number\n"
     ]
    }
   ],
   "source": [
    "\"\"\"\n",
    "Question5:\n",
    "Guess the number game\n",
    "Write a program which randomly generate a number between 1 to 30 and ask the user in input field to guess the correct number.\n",
    "Give three chances to user guess the number and also give hint to user if hidden number is greater or smaller than the \n",
    "number he given to input field.\n",
    "\"\"\"\n",
    "import random\n",
    "random_number = random.randrange(1, 30)\n",
    "print(random_number)\n",
    "\n",
    "\n",
    "chances = 3\n",
    "\n",
    "for a in range(chances) : \n",
    "    guess = int(input('Guess the correct number : '))\n",
    "    if guess == random_number :\n",
    "        print('Correct!')\n",
    "    elif guess < random_number :\n",
    "        print('Your guess is smaller than the correct number')\n",
    "    elif guess > random_number :\n",
    "        print('Your guess is greater than the correct number')"
   ]
  },
  {
   "cell_type": "code",
   "execution_count": null,
   "metadata": {},
   "outputs": [],
   "source": []
  },
  {
   "cell_type": "code",
   "execution_count": null,
   "metadata": {},
   "outputs": [],
   "source": []
  },
  {
   "cell_type": "code",
   "execution_count": null,
   "metadata": {},
   "outputs": [],
   "source": []
  }
 ],
 "metadata": {
  "kernelspec": {
   "display_name": "Python 3",
   "language": "python",
   "name": "python3"
  },
  "language_info": {
   "codemirror_mode": {
    "name": "ipython",
    "version": 3
   },
   "file_extension": ".py",
   "mimetype": "text/x-python",
   "name": "python",
   "nbconvert_exporter": "python",
   "pygments_lexer": "ipython3",
   "version": "3.7.4"
  }
 },
 "nbformat": 4,
 "nbformat_minor": 2
}
