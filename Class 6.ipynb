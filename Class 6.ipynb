{
 "cells": [
  {
   "cell_type": "code",
   "execution_count": 2,
   "metadata": {},
   "outputs": [
    {
     "name": "stdout",
     "output_type": "stream",
     "text": [
      "Elements in our list : \n",
      "\n",
      "Options:\n",
      "1. Add Element\n",
      "2. Delete Element\n",
      "3. Delete All Elements\n",
      "4.  Exit\n",
      "Note: Please give input in numbers e.g. 1, 2, 3, 4\n",
      "Enter your choice: 4\n"
     ]
    }
   ],
   "source": [
    "#Todo list\n",
    "elements = []         #empty list k andar values ko insert/append krwaenge\n",
    "\n",
    "while True:         #loop chalta rhe jb tk khud se quit na kre\n",
    "    #agar hum False likhenge tu code run hi nhi huga\n",
    "    \n",
    "    print(\"Elements in our list : \")\n",
    "    for element in elements:\n",
    "        print(\" -> \" + element)\n",
    "        \n",
    "    print(\"\\nOptions:\")\n",
    "    print(\"1. Add Element\")\n",
    "    print(\"2. Delete Element\")\n",
    "    print(\"3. Delete All Elements\")\n",
    "    print(\"4.  Exit\")\n",
    "    print(\"Note: Please give input in numbers e.g. 1, 2, 3, 4\")\n",
    "    \n",
    "    inp= input(\"Enter your choice: \")\n",
    "    \n",
    "    if inp == '1' :\n",
    "        elements.append(input(\"Enter your element: \"))\n",
    "    elif inp == '2' : \n",
    "        elements.remove(input(\"Enter element to be deleted: \"))\n",
    "    elif inp == '3':\n",
    "        elements.clear()\n",
    "    elif inp == '4':\n",
    "        break\n",
    "    else: \n",
    "        print(\"Invalid Input\")\n",
    "        \n",
    "    print(\"\\nxxxxxxxxxxxxxxxxxxxxxxxxxxxxxxxxxxxxxxxxxxxxx\\n\")"
   ]
  },
  {
   "cell_type": "code",
   "execution_count": 3,
   "metadata": {},
   "outputs": [
    {
     "name": "stdout",
     "output_type": "stream",
     "text": [
      "Python Programming\n"
     ]
    }
   ],
   "source": [
    "#Todo App in Python\n",
    "\n",
    "print(\"Python Programming\")"
   ]
  },
  {
   "cell_type": "code",
   "execution_count": 4,
   "metadata": {},
   "outputs": [
    {
     "name": "stdout",
     "output_type": "stream",
     "text": [
      "Marks: 89\n"
     ]
    }
   ],
   "source": [
    "marks = '89'\n",
    "print(\"Marks: \" + marks)"
   ]
  },
  {
   "cell_type": "code",
   "execution_count": 5,
   "metadata": {},
   "outputs": [
    {
     "name": "stdout",
     "output_type": "stream",
     "text": [
      "Marks : 89\n"
     ]
    }
   ],
   "source": [
    "marks = '89'\n",
    "print(\"Marks : {}\".format(marks))"
   ]
  },
  {
   "cell_type": "code",
   "execution_count": 6,
   "metadata": {},
   "outputs": [
    {
     "name": "stdout",
     "output_type": "stream",
     "text": [
      "Marks: 89 ; Percentage: 80%\n"
     ]
    }
   ],
   "source": [
    "marks = '89'\n",
    "percentage = '80%'\n",
    "print(\"Marks: {} ; Percentage: {}\".format(marks, percentage))"
   ]
  },
  {
   "cell_type": "code",
   "execution_count": 1,
   "metadata": {},
   "outputs": [
    {
     "name": "stdout",
     "output_type": "stream",
     "text": [
      "---------------------------\n",
      "          Main Menu             \n",
      "---------------------------\n",
      "\n",
      "1: Add Tasks\n",
      "2: View Tasks\n",
      "3: Delete Tasks\n",
      "4: Terminate App\n",
      "\n",
      "Enter Command: 1\n",
      "\n",
      "---------------------------\n",
      "          Adding Task             \n",
      "---------------------------\n",
      "\n",
      "\n",
      "Task # 1: Meeting\n",
      "Task #1 - Successfully Added\n",
      "\n",
      "1: Add Tasks\n",
      "2: View Tasks\n",
      "3: Delete Tasks\n",
      "4: Terminate App\n",
      "\n",
      "Enter Command: 1\n",
      "\n",
      "---------------------------\n",
      "          Adding Task             \n",
      "---------------------------\n",
      "\n",
      "\n",
      "Task # 2: Playing\n",
      "Task #2 - Successfully Added\n",
      "\n",
      "1: Add Tasks\n",
      "2: View Tasks\n",
      "3: Delete Tasks\n",
      "4: Terminate App\n",
      "\n",
      "Enter Command: Cooking\n",
      "\n",
      "Invalid Command, Try Valid Command\n",
      "1: Add Tasks\n",
      "2: View Tasks\n",
      "3: Delete Tasks\n",
      "4: Terminate App\n",
      "\n",
      "Enter Command: 1\n",
      "\n",
      "---------------------------\n",
      "          Adding Task             \n",
      "---------------------------\n",
      "\n",
      "\n",
      "Task # 3: Cooking\n",
      "Task #3 - Successfully Added\n",
      "\n",
      "1: Add Tasks\n",
      "2: View Tasks\n",
      "3: Delete Tasks\n",
      "4: Terminate App\n",
      "\n",
      "Enter Command: 2\n",
      "\n",
      "---------------------------\n",
      "          Viewing Task             \n",
      "---------------------------\n",
      "\n",
      "\n",
      "Task # 1 : Meeting\n",
      "Task # 2 : Playing\n",
      "Task # 3 : Cooking\n",
      "1: Add Tasks\n",
      "2: View Tasks\n",
      "3: Delete Tasks\n",
      "4: Terminate App\n",
      "\n",
      "Enter Command: 3\n",
      "\n",
      "---------------------------\n",
      "          Deleting Task             \n",
      "---------------------------\n",
      "\n",
      "\n",
      "Task # 1 : Meeting\n",
      "Task # 2 : Playing\n",
      "Task # 3 : Cooking\n",
      "Enter task index eg 1: 2\n",
      "Task # 2 - Successfully Deleted\n",
      "1: Add Tasks\n",
      "2: View Tasks\n",
      "3: Delete Tasks\n",
      "4: Terminate App\n",
      "\n",
      "Enter Command: 2\n",
      "\n",
      "---------------------------\n",
      "          Viewing Task             \n",
      "---------------------------\n",
      "\n",
      "\n",
      "Task # 1 : Meeting\n",
      "Task # 3 : Cooking\n",
      "1: Add Tasks\n",
      "2: View Tasks\n",
      "3: Delete Tasks\n",
      "4: Terminate App\n",
      "\n",
      "Enter Command: 4\n",
      "App Terminated\n"
     ]
    }
   ],
   "source": [
    "#Todo App in Python\n",
    "\n",
    "# main menu\n",
    "# add tasks\n",
    "# view tasks\n",
    "# delete tasks\n",
    "# terminate app\n",
    "\n",
    "def isInteger(userInput):\n",
    "    try: #yahan check krega k ye int mei convert ho skta ha ya nhi \n",
    "        int(userInput) #(typecasting)\n",
    "        return True\n",
    "    except ValueError:\n",
    "        return False\n",
    "\n",
    "def mainmenu(menu) :             #Passing dictionary named menu in function\n",
    "    for menuKey, menuName in menu.items():\n",
    "        print(\"{}: {}\".format(menuKey,menuName))\n",
    "    user_command = input(\"\\nEnter Command: \")\n",
    "    return user_command\n",
    "    \n",
    "def addTask(taskDictionary):\n",
    "    print(\"\\n---------------------------\\n          Adding Task             \\n---------------------------\\n\\n\")\n",
    "    taskIndex = len(taskDictionary) + 1\n",
    "    #if taskIndex > 0:\n",
    "    taskName = input(\"Task # {}: \".format(taskIndex))\n",
    "    taskDictionary.update({taskIndex : taskName}) #dictionary mei add krwane k lye we use update\n",
    "    print(\"Task #{} - Successfully Added\\n\".format(taskIndex))\n",
    "    \n",
    "def viewTask(taskDictionary):        \n",
    "    print(\"\\n---------------------------\\n          Viewing Task             \\n---------------------------\\n\\n\")\n",
    "    if len(taskDictionary) > 0 : \n",
    "        for taskIndex, taskName in taskDictionary.items():\n",
    "            print(\"Task # {} : {}\".format(taskIndex, taskName))\n",
    "    else:\n",
    "        print(\"No task found\\n\")\n",
    "        \n",
    "def deleteTask(taskDictionary):\n",
    "    print(\"\\n---------------------------\\n          Deleting Task             \\n---------------------------\\n\\n\")\n",
    "    if len(taskDictionary) > 0:\n",
    "        for taskIndex, taskName in taskDictionary.items():\n",
    "            print(\"Task # {} : {}\".format(taskIndex, taskName))\n",
    "            \n",
    "        taskIndex = int(input(\"Enter task index eg 1: \"))\n",
    "        if taskIndex in taskDictionary.keys():\n",
    "            taskDictionary.pop(taskIndex)\n",
    "            print(\"Task # {} - Successfully Deleted\".format(taskIndex))\n",
    "        else:\n",
    "            print(\"Invalid Index, try valid index\")\n",
    "        \n",
    "    else:\n",
    "        print(\"No Task found\\n\")\n",
    "\n",
    "    \n",
    "menu = {\n",
    "    1 : \"Add Tasks\",\n",
    "    2 : \"View Tasks\",\n",
    "    3 : \"Delete Tasks\",\n",
    "    4 : \"Terminate App\"\n",
    "}\n",
    "\n",
    "#mainmenu(menu)\n",
    "\n",
    "taskDictionary = {}\n",
    "#taskDictionary[1] = {}\n",
    "#taskDictionary.update({taskindex : key}) = {}\n",
    "\n",
    "\n",
    "print(\"---------------------------\\n          Main Menu             \\n---------------------------\\n\")  #for formatting purpose\n",
    "\n",
    "\n",
    "while (True) : \n",
    "    user_command = mainmenu(menu)\n",
    "    \n",
    "    if isInteger(user_command) == True :\n",
    "        user_command= int(user_command) #again typecasting\n",
    "        if user_command > 0 and user_command <= 4 :\n",
    "            #print(\"\\nCommand Accepted\")\n",
    "            \n",
    "            #Add tasks\n",
    "            if user_command == 1:\n",
    "                addTask(taskDictionary)\n",
    "                \n",
    "            if user_command == 2:\n",
    "                viewTask(taskDictionary)\n",
    "            \n",
    "            if user_command == 3:\n",
    "                deleteTask(taskDictionary)\n",
    "            \n",
    "            if user_command == 4:\n",
    "                print(\"App Terminated\")\n",
    "                break \n",
    "\n",
    "            \n",
    "        else:\n",
    "            print(\"\\nInvalid Command, Try Valid Command\")\n",
    "    else: \n",
    "        print(\"\\nInvalid Command, Try Valid Command\")"
   ]
  },
  {
   "cell_type": "code",
   "execution_count": null,
   "metadata": {},
   "outputs": [],
   "source": []
  },
  {
   "cell_type": "code",
   "execution_count": null,
   "metadata": {},
   "outputs": [],
   "source": []
  },
  {
   "cell_type": "code",
   "execution_count": null,
   "metadata": {},
   "outputs": [],
   "source": []
  },
  {
   "cell_type": "code",
   "execution_count": null,
   "metadata": {},
   "outputs": [],
   "source": []
  },
  {
   "cell_type": "code",
   "execution_count": null,
   "metadata": {},
   "outputs": [],
   "source": []
  },
  {
   "cell_type": "code",
   "execution_count": null,
   "metadata": {},
   "outputs": [],
   "source": []
  }
 ],
 "metadata": {
  "kernelspec": {
   "display_name": "Python 3",
   "language": "python",
   "name": "python3"
  },
  "language_info": {
   "codemirror_mode": {
    "name": "ipython",
    "version": 3
   },
   "file_extension": ".py",
   "mimetype": "text/x-python",
   "name": "python",
   "nbconvert_exporter": "python",
   "pygments_lexer": "ipython3",
   "version": "3.7.4"
  }
 },
 "nbformat": 4,
 "nbformat_minor": 2
}
