{
 "cells": [
  {
   "cell_type": "code",
   "execution_count": 3,
   "metadata": {},
   "outputs": [
    {
     "name": "stdout",
     "output_type": "stream",
     "text": [
      "<__main__.Human object at 0x0000017FDFC77C08>\n",
      "Khan\n",
      "<__main__.Human object at 0x0000017FDFC59588>\n",
      "Mughal\n"
     ]
    }
   ],
   "source": [
    "class Human():\n",
    "    def __init__(self,name):  #name is dynamic value jo k class ko call krte hue define hujaegi   #init is instantiation (it is a part of syntax) #self k ji kch b likha ja skta ha #self itself is a prefix jo throughout aap object utilize kr skte hain\n",
    "        self.name = name      #jo aap neche dynamic rkhna chah rhe hain wo upper prefix area mei laazmi define huga \"\"\"This is the object\"\"\"\n",
    "        self.age = 10 #age ki value hardcoded ha, default \"\"\"This is the object\"\"\"\n",
    "personOne = Human('Khan') #defining instance of object and calling it\n",
    "personTwo = Human('Mughal') #same as above\n",
    "print(personOne) #it will display k ks memory mei ja k allocate hua ha\n",
    "print(personOne.name) #it will display name KHAN\n",
    "print(personTwo)\n",
    "print(personTwo.name)\n",
    "#object is combination of the attribute and methods/behavior\n",
    "#What is the behavior?\n",
    "#aik class mei multiple instance create ho skte hain as per my need\n",
    "#Attributes create krdiye within the class of car"
   ]
  },
  {
   "cell_type": "code",
   "execution_count": 4,
   "metadata": {},
   "outputs": [
    {
     "data": {
      "text/plain": [
       "'\\nThe extraction of the properties of objects or attributes from already define class to new child created class\\nInheritance can also b done on multiple classes depending upon scenarios\\n\\nEncapsulation mei mainly PUBLIC, PROTECTED or PRIVATE ata ha\\n\\nAbstraction are the ideal classes. Js k instances create nai ho skte. \\nChild class can be created/extended from the abstract class\\nAbstraction will be parent class\\n\\nPolymorphism: is a phenomena js mei overloading and overriding are the major concepts.\\nA single entity has a different relation.\\n'"
      ]
     },
     "execution_count": 4,
     "metadata": {},
     "output_type": "execute_result"
    }
   ],
   "source": [
    "\"\"\"\n",
    "The extraction of the properties of objects or attributes from already define class to new child created class\n",
    "Inheritance can also b done on multiple classes depending upon scenarios\n",
    "\n",
    "Encapsulation mei mainly PUBLIC, PROTECTED or PRIVATE ata ha\n",
    "\n",
    "Abstraction are the ideal classes. Js k instances create nai ho skte. \n",
    "Child class can be created/extended from the abstract class\n",
    "Abstraction will be parent class\n",
    "\n",
    "Polymorphism: is a phenomena js mei overloading and overriding are the major concepts.\n",
    "A single entity has a different relation.\n",
    "\"\"\""
   ]
  },
  {
   "cell_type": "code",
   "execution_count": 14,
   "metadata": {},
   "outputs": [
    {
     "name": "stdout",
     "output_type": "stream",
     "text": [
      "Marium\n",
      "1\n",
      "Twenty\n",
      "Karachi University default\n",
      "NED University modified\n",
      "\n",
      "\n",
      "Asad\n",
      "2\n",
      "Seventeen\n",
      "Karachi University default\n",
      "Iqra University modified\n",
      "\n",
      "\n",
      "<__main__.Registration object at 0x0000017FDFC897C8>\n",
      "<__main__.Registration object at 0x0000017FDFC89908>\n"
     ]
    }
   ],
   "source": [
    "class Registration(): #class name ka pehla letter capital huga\n",
    "    def __init__(self,name,rollno,age):#start mei jo double underscore hain wo kehlete hain leading underscore aur end mei jo double underscore aa rhe hain wo kehtlete hain trailing underscore\n",
    "        #ek naam object mei lazmi rkhna huta ha as a prefix aur wo btata ha k ye prefix ha \n",
    "        self.name = name #name walay argument ko value yahan se pass ho rhi ha\n",
    "        self.rollno = rollno\n",
    "        self.age = age\n",
    "        ## default attribute\n",
    "        self.uniname = \"Karachi University\"\n",
    "        #abi tk srf attributes pass hue hain koi method nhi bna\n",
    "        #normal prog mei variables ko yahan kehte hain attributes or functions ko methods\n",
    "        #ye ek instantiation ka method tha aur self wo prefix ha jo laazmi pass huna ha is method mei\n",
    "        #ab jb ksi method mei is instantiation k attributes ko get krna ho tb self help krega \n",
    "\n",
    "student1 = Registration('Marium',1,'Twenty') #creating instance #first instance #calling method using instance\n",
    "#print(student1)\n",
    "print(student1.name)\n",
    "print(student1.rollno)\n",
    "print(student1.age)\n",
    "print(student1.uniname, 'default')\n",
    "\n",
    "#Directly Modifying attribute value\n",
    "student1.uniname = 'NED University'\n",
    "print(student1.uniname, 'modified')\n",
    "print('\\n')\n",
    "\n",
    "## new instance of 2nd student\n",
    "student2 = Registration('Asad',2,'Seventeen')\n",
    "print(student2.name)\n",
    "print(student2.rollno)\n",
    "print(student2.age)\n",
    "print(student2.uniname, 'default')\n",
    "\n",
    "#Directly Modifying attribute value\n",
    "student2.uniname = 'Iqra University'\n",
    "print(student2.uniname, 'modified')\n",
    "\n",
    "print('\\n')\n",
    "print(student1)\n",
    "print(student2)"
   ]
  },
  {
   "cell_type": "code",
   "execution_count": 7,
   "metadata": {},
   "outputs": [],
   "source": [
    "#self.name is attribute =name is value jo pass ho rhi ha argument se\n",
    "#def init is object \n",
    "#Object create krte ho within the class\n",
    "#Aur us object ka instance create krte ho \n",
    "\n",
    "#Class k bahir jo function bnate hai unhe jb class k andar likho tou wo method bnjata ha"
   ]
  },
  {
   "cell_type": "code",
   "execution_count": 17,
   "metadata": {},
   "outputs": [
    {
     "name": "stdout",
     "output_type": "stream",
     "text": [
      "Marium\n",
      "1\n",
      "20\n",
      "Karachi University\n",
      "Iqra university Modified Name\n"
     ]
    }
   ],
   "source": [
    "class Registration(): \n",
    "    def __init__(self,name,rollno,age):\n",
    "        self.name = name\n",
    "        self.rollno = rollno\n",
    "        self.age = age\n",
    "        ## default attribute\n",
    "        self.uniname = \"Karachi University\"\n",
    "        \n",
    "    \n",
    "    #method\n",
    "    def updateUni(self, newName): #all attributes of instantiation method can be accessed\n",
    "        self.uniname = newName\n",
    "        \n",
    "    def updateRollno(self, newRollno):\n",
    "        self.rollno += newRollno\n",
    "            \n",
    "stu1 = Registration('Marium',1,20)\n",
    "print(stu1.name)\n",
    "print(stu1.rollno)\n",
    "print(stu1.age)\n",
    "print(stu1.uniname)\n",
    "stu1.updateUni('Iqra university')\n",
    "print(stu1.uniname, 'Modified Name')"
   ]
  },
  {
   "cell_type": "code",
   "execution_count": null,
   "metadata": {},
   "outputs": [],
   "source": []
  }
 ],
 "metadata": {
  "kernelspec": {
   "display_name": "Python 3",
   "language": "python",
   "name": "python3"
  },
  "language_info": {
   "codemirror_mode": {
    "name": "ipython",
    "version": 3
   },
   "file_extension": ".py",
   "mimetype": "text/x-python",
   "name": "python",
   "nbconvert_exporter": "python",
   "pygments_lexer": "ipython3",
   "version": "3.7.4"
  }
 },
 "nbformat": 4,
 "nbformat_minor": 2
}
