{
 "cells": [
  {
   "cell_type": "code",
   "execution_count": 7,
   "metadata": {},
   "outputs": [
    {
     "name": "stdout",
     "output_type": "stream",
     "text": [
      "{'S.no': 2, 'question': 'what is your country name?', 'options': ['Pakistan', 'USA', 'UAE', 'Africa'], 'answer': 'Pakistan'}\n"
     ]
    }
   ],
   "source": [
    "#List of dictionaries\n",
    "#List is a group of elements, elements can be string value, numeric, boolean or dictionary. Elements are separated by comma. Dictionary ko apas mei comma se separate krenge\n",
    "question = [\n",
    "    {\n",
    "        'S.no' : 1,\n",
    "        'question' : 'what is your country name?',\n",
    "        'options' : ['Pakistan','USA','UAE','Africa'],\n",
    "        'answer' : 'Pakistan'\n",
    "    },\n",
    "    {\n",
    "        'S.no' : 2,\n",
    "        'question' : 'what is your country name?',\n",
    "        'options' : ['Pakistan','USA','UAE','Africa'],\n",
    "        'answer' : 'Pakistan'\n",
    "    },\n",
    "    {\n",
    "        'S.no' : 3,\n",
    "        'question': 'what is your country name?',\n",
    "        'options' : ['Pakistan','USA','UAE','Africa'],\n",
    "        'answer' : 'Pakistan'\n",
    "    }\n",
    "]\n",
    "print(question[1])\n"
   ]
  },
  {
   "cell_type": "code",
   "execution_count": 8,
   "metadata": {},
   "outputs": [
    {
     "name": "stdout",
     "output_type": "stream",
     "text": [
      "Pakistan\n"
     ]
    }
   ],
   "source": [
    "print(question[1]['answer'])\n"
   ]
  },
  {
   "cell_type": "code",
   "execution_count": 11,
   "metadata": {},
   "outputs": [
    {
     "name": "stdout",
     "output_type": "stream",
     "text": [
      "[{'S.no': 1, 'question': 'what is your country name?', 'options': ['Pakistan', 'USA', 'UAE', 'Africa'], 'answer': 'Pakistan'}, {'S.no': 2, 'question': 'what is your country name?', 'options': ['Pakistan', 'USA', 'UAE', 'Africa'], 'answer': 'Pakistan'}, {'S.no': 3, 'question': 'what is your country name?', 'options': ['Pakistan', 'USA', 'UAE', 'Africa'], 'answer': 'Pakistan'}, {'S.no': 4, 'question': 'what is your country name?', 'options': ['Pakistan', 'USA', 'UAE', 'Africa'], 'answer': 'Pakistan'}]\n"
     ]
    }
   ],
   "source": [
    "new_dictionary = {\n",
    "    'S.no' : 4,\n",
    "    'question': 'what is your country name?',\n",
    "    'options' : ['Pakistan','USA','UAE','Africa'],\n",
    "    'answer' : 'Pakistan'\n",
    "}\n",
    "question.append(new_dictionary)\n",
    "print(question)"
   ]
  },
  {
   "cell_type": "code",
   "execution_count": 12,
   "metadata": {},
   "outputs": [
    {
     "name": "stdout",
     "output_type": "stream",
     "text": [
      "{'S.no': 4, 'question': 'what is your country name?', 'options': ['Pakistan', 'USA', 'UAE', 'Africa'], 'answer': 'Pakistan'}\n"
     ]
    }
   ],
   "source": [
    "print(question[3])"
   ]
  },
  {
   "cell_type": "code",
   "execution_count": 13,
   "metadata": {},
   "outputs": [
    {
     "name": "stdout",
     "output_type": "stream",
     "text": [
      "[{'S.no': 1, 'question': 'what is your country name?', 'options': ['Pakistan', 'USA', 'UAE', 'Africa'], 'answer': 'Pakistan'}, {'S.no': 2, 'question': 'what is your country name?', 'options': ['Pakistan', 'USA', 'UAE', 'Africa'], 'answer': 'Pakistan'}, {'S.no': 4, 'question': 'what is your country name?', 'options': ['Pakistan', 'USA', 'UAE', 'Africa'], 'answer': 'Pakistan'}, {'S.no': 3, 'question': 'what is your country name?', 'options': ['Pakistan', 'USA', 'UAE', 'Africa'], 'answer': 'Pakistan'}, {'S.no': 4, 'question': 'what is your country name?', 'options': ['Pakistan', 'USA', 'UAE', 'Africa'], 'answer': 'Pakistan'}]\n"
     ]
    }
   ],
   "source": [
    "#Append means end mei jaa k add/insert hujana\n",
    "#dictionaries are objects\n",
    "#List mei beech mei add krna ho element tu kese krenge?\n",
    "question.insert(2,new_dictionary)\n",
    "print(question)"
   ]
  },
  {
   "cell_type": "code",
   "execution_count": 14,
   "metadata": {},
   "outputs": [
    {
     "name": "stdout",
     "output_type": "stream",
     "text": [
      "USA\n"
     ]
    }
   ],
   "source": [
    "#chp 37 and 38\n",
    "print(question[0][\"options\"][1])"
   ]
  },
  {
   "cell_type": "code",
   "execution_count": 2,
   "metadata": {},
   "outputs": [
    {
     "name": "stdout",
     "output_type": "stream",
     "text": [
      "{0: {'name': 'Ali', 'father name': 'Ali Baba', 'age': '16'}, 1: {'name': 'Asad', 'father name': 'Asad Baba', 'age': '15'}, 2: {'name': 'Hamza', 'father name': 'Hamza Baba', 'age': '12'}}\n"
     ]
    }
   ],
   "source": [
    "#dictionary ki values access krne k lye koi na koi key huna zarori ha\n",
    "\n",
    "#dictionary of dictionaries\n",
    "\n",
    "student = {\n",
    "   1: {\n",
    "        \"name\" : \"Ali\",\n",
    "        \"father name\" : \"Ali Baba\",\n",
    "        \"age\" : \"16\"\n",
    "    },\n",
    " 2: {\n",
    "        \"name\" : \"Asad\",\n",
    "        \"father name\" : \"Asad Baba\",\n",
    "        \"age\" : \"15\"\n",
    "    },\n",
    "  3:  {\n",
    "        \"name\" : \"Hamza\",\n",
    "        \"father name\" : \"Hamza Baba\",\n",
    "        \"age\" : \"12\"\n",
    "    }\n",
    "}\n",
    "print(student)"
   ]
  },
  {
   "cell_type": "code",
   "execution_count": 11,
   "metadata": {},
   "outputs": [
    {
     "name": "stdout",
     "output_type": "stream",
     "text": [
      "{'name': 'Asad', 'father name': 'Asad Baba', 'age': '15'}\n"
     ]
    }
   ],
   "source": [
    "print(student[1])"
   ]
  },
  {
   "cell_type": "code",
   "execution_count": 10,
   "metadata": {},
   "outputs": [
    {
     "name": "stdout",
     "output_type": "stream",
     "text": [
      "Asad\n"
     ]
    }
   ],
   "source": [
    "print(student[1][\"name\"])"
   ]
  },
  {
   "cell_type": "code",
   "execution_count": null,
   "metadata": {},
   "outputs": [],
   "source": [
    "question = [\n",
    "    {\n",
    "        'S.no' : 1,\n",
    "        'question' : 'what is your country name?',\n",
    "        'options' : ['Pakistan','USA','UAE','Africa'],\n",
    "        'answer' : 'Pakistan'\n",
    "    },\n",
    "    {\n",
    "        'S.no' : 2,\n",
    "        'question' : 'what is your city name?',\n",
    "        'options' : ['Karachi','Lahore','Multan','Islamabad'],\n",
    "        'answer' : 'Karachi'\n",
    "    },\n",
    "    {\n",
    "        'S.no' : 3,\n",
    "        'question': 'what is your town name?',\n",
    "        'options' : ['Johar','Malir','Gulshan-e-Iqbal','DHA'],\n",
    "        'answer' : 'Malir'\n",
    "    }\n",
    "]\n",
    "score = 0\n",
    "\n",
    "for question_01 in question :\n",
    "    data = str(question_01['S.no']) + \": \" + question_01['question'] + \"\\n please write correct answer in input field \\n\" + question_01['options'][0] + \"\\n\" + question_01['options'][1] + \"\\n\" + question_01['options'][2] + \"\\n\" + question_01['options'][3] + \"\\n\"  \n",
    "    #print(data)\n",
    "    #answer = input()\n",
    "    answer = input(data)\n",
    "    if answer == question_01[\"answer\"]:\n",
    "        score +=1\n",
    "print(\"your score is : \" + str(score))"
   ]
  },
  {
   "cell_type": "code",
   "execution_count": null,
   "metadata": {},
   "outputs": [],
   "source": [
    "#Functions: you're calling the function repetitively on different pages\n",
    "#It provides code customization , it reduces your effort\n",
    "\n",
    "#pre-defined functions: \n",
    "print()\n",
    "input()\n",
    "\n",
    "#user-defined functions\n",
    "\n",
    "#parentheses tells us that it is a function"
   ]
  },
  {
   "cell_type": "code",
   "execution_count": 1,
   "metadata": {},
   "outputs": [
    {
     "name": "stdout",
     "output_type": "stream",
     "text": [
      "15\n"
     ]
    }
   ],
   "source": [
    "def addition():\n",
    "    num01 = 5\n",
    "    num02 = 10\n",
    "    total= num01 + num02\n",
    "    print(total)\n",
    "    \n",
    "addition()"
   ]
  },
  {
   "cell_type": "code",
   "execution_count": 2,
   "metadata": {},
   "outputs": [
    {
     "name": "stdout",
     "output_type": "stream",
     "text": [
      "20\n"
     ]
    }
   ],
   "source": [
    "def addition(num01,num02):              #parameters\n",
    "    total= num01 + num02\n",
    "    print(total)\n",
    "    \n",
    "a = 10\n",
    "b = 10\n",
    "addition(a,b)                   #arguments\n",
    "\n",
    "#jahan values ko pass krrhe hain(calling) wo arguments hoti hain aur jahan catch krrhe hain(defining) wo parameters kehlati hain"
   ]
  },
  {
   "cell_type": "code",
   "execution_count": 3,
   "metadata": {},
   "outputs": [
    {
     "name": "stdout",
     "output_type": "stream",
     "text": [
      "30\n"
     ]
    }
   ],
   "source": [
    "def addition(num01,num02):              \n",
    "    total= num01 + num02\n",
    "    print(total)\n",
    "    \n",
    "addition(10,20)"
   ]
  },
  {
   "cell_type": "code",
   "execution_count": 4,
   "metadata": {},
   "outputs": [],
   "source": [
    "#matching by order makes the arguments positional arguments\n",
    "#but where order doesn't matter is called keyword arguments"
   ]
  },
  {
   "cell_type": "code",
   "execution_count": 5,
   "metadata": {},
   "outputs": [
    {
     "name": "stdout",
     "output_type": "stream",
     "text": [
      "Marium Arif\n"
     ]
    }
   ],
   "source": [
    "def fullname(firstname, lastname):\n",
    "    completename= firstname + \" \" + lastname\n",
    "    print(completename)\n",
    "    \n",
    "fullname(\"Marium\",\"Arif\")"
   ]
  },
  {
   "cell_type": "code",
   "execution_count": 6,
   "metadata": {},
   "outputs": [
    {
     "name": "stdout",
     "output_type": "stream",
     "text": [
      "Arif Marium\n"
     ]
    }
   ],
   "source": [
    "def fullname(lastname, firstname):\n",
    "    completename= firstname + \" \" + lastname\n",
    "    print(completename)\n",
    "    \n",
    "fullname(\"Marium\",\"Arif\")"
   ]
  },
  {
   "cell_type": "code",
   "execution_count": 7,
   "metadata": {},
   "outputs": [
    {
     "name": "stdout",
     "output_type": "stream",
     "text": [
      "Marium Arif\n"
     ]
    }
   ],
   "source": [
    "#To avoid positional arguments drawback, we use keyword argument\n",
    "def fullname(lastname, firstname):\n",
    "    completename= firstname + \" \" + lastname\n",
    "    print(completename)\n",
    "    \n",
    "fullname(firstname= \"Marium\", lastname= \"Arif\")"
   ]
  },
  {
   "cell_type": "code",
   "execution_count": 8,
   "metadata": {},
   "outputs": [
    {
     "name": "stdout",
     "output_type": "stream",
     "text": [
      "Marium Arif\n"
     ]
    }
   ],
   "source": [
    "def fullname(lastname = 'Arif', firstname = 'Marium'):\n",
    "    completename= firstname + \" \" + lastname\n",
    "    print(completename)\n",
    "    \n",
    "fullname() "
   ]
  },
  {
   "cell_type": "code",
   "execution_count": null,
   "metadata": {},
   "outputs": [],
   "source": []
  }
 ],
 "metadata": {
  "kernelspec": {
   "display_name": "Python 3",
   "language": "python",
   "name": "python3"
  },
  "language_info": {
   "codemirror_mode": {
    "name": "ipython",
    "version": 3
   },
   "file_extension": ".py",
   "mimetype": "text/x-python",
   "name": "python",
   "nbconvert_exporter": "python",
   "pygments_lexer": "ipython3",
   "version": "3.7.4"
  }
 },
 "nbformat": 4,
 "nbformat_minor": 2
}
