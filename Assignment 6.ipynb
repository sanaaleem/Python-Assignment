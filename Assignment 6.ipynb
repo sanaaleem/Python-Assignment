{
 "cells": [
  {
   "cell_type": "code",
   "execution_count": 5,
   "metadata": {},
   "outputs": [
    {
     "data": {
      "text/plain": [
       "'\\nQestion 1:\\nDefine Object Oriented Programming Language?\\n'"
      ]
     },
     "execution_count": 5,
     "metadata": {},
     "output_type": "execute_result"
    }
   ],
   "source": [
    "\"\"\"\n",
    "Qestion 1:\n",
    "Define Object Oriented Programming Language?\n",
    "\"\"\"\n",
    "# Object oriented programming language is a model that builds up around data or objects rather and not logics.\n"
   ]
  },
  {
   "cell_type": "code",
   "execution_count": 3,
   "metadata": {},
   "outputs": [
    {
     "data": {
      "text/plain": [
       "'\\nQuestion 2:\\nList down the Benefits of OOP?\\n'"
      ]
     },
     "execution_count": 3,
     "metadata": {},
     "output_type": "execute_result"
    }
   ],
   "source": [
    "\"\"\"\n",
    "Question 2:\n",
    "List down the Benefits of OOP?\n",
    "\"\"\"\n",
    "# Enables reuse of code.\n",
    "# Code is easy to understand as lies in a clear modular structure.\n",
    "# Code is easy to maintain being in classes.\n",
    "# Faster development as functions and types are used across the code."
   ]
  },
  {
   "cell_type": "code",
   "execution_count": 4,
   "metadata": {},
   "outputs": [
    {
     "data": {
      "text/plain": [
       "'\\nQuestion 3:\\nDifferentiate between function and method?\\n'"
      ]
     },
     "execution_count": 4,
     "metadata": {},
     "output_type": "execute_result"
    }
   ],
   "source": [
    "\"\"\"\n",
    "Question 3:\n",
    "Differentiate between function and method?\n",
    "\"\"\"\n",
    "# Function is a sellf describing unit of code independent of any class or structure. Method is a referenced unit of code that depends and indentified by the containing class."
   ]
  },
  {
   "cell_type": "code",
   "execution_count": 6,
   "metadata": {},
   "outputs": [
    {
     "data": {
      "text/plain": [
       "'\\nQuestion 4:\\nDefine the following terms:\\n1. Class\\n2. Object\\n3. Attribute\\n4. Behavior\\n'"
      ]
     },
     "execution_count": 6,
     "metadata": {},
     "output_type": "execute_result"
    }
   ],
   "source": [
    "\"\"\"\n",
    "Question 4:\n",
    "Define the following terms:\n",
    "1. Class\n",
    "2. Object\n",
    "3. Attribute\n",
    "4. Behavior\n",
    "\"\"\"\n",
    "# Class : is a blue print for upcoming instances to operate and behave\n",
    "# Object : each instance or reference of a class is called object in OOP\n",
    "# Attribute : data stored in a class to represent the state of instance\n",
    "# Behavior : defines the actions of an instance of a class"
   ]
  },
  {
   "cell_type": "code",
   "execution_count": 7,
   "metadata": {},
   "outputs": [
    {
     "name": "stdout",
     "output_type": "stream",
     "text": [
      "Name is Venza\n",
      "Model is XLI\n",
      "Manufactured by Toyota\n",
      "Made in year 2011\n",
      "Color is Black\n"
     ]
    }
   ],
   "source": [
    "\"\"\"\n",
    "Question 5:\n",
    "Write a code in python in which create a class named it Car which\n",
    "have 5 attributes such like (model, color and name etc.) and 3\n",
    "methods. And create 5 object instance from that class.\n",
    "\"\"\"\n",
    "class Car:\n",
    "    def __init__(this, name, model, manufac, year, color):\n",
    "        this.name = name\n",
    "        this.model = model\n",
    "        this.manufac = manufac\n",
    "        this.year = year\n",
    "        this.color = color\n",
    "    \n",
    "    def prnt(this):\n",
    "        print('Name is ' + str(this.name))\n",
    "        print('Model is ' + str(this.model))\n",
    "        print('Manufactured by ' + str(this.manufac))\n",
    "        print('Made in year ' + str(this.year))\n",
    "        print('Color is ' + str(this.color))\n",
    "    \n",
    "C1 = Car('Venza', 'GLI', 'Toyota', 2016, 'Grey')\n",
    "C2 = Car('Venza', 'GLI', 'Toyota', 2018, 'White')\n",
    "C3 = Car('Venza', 'GLI', 'Toyota', 2019, 'Blue')\n",
    "C4 = Car('Venza', 'XLI', 'Toyota', 2012, 'Red')\n",
    "C5 = Car('Venza', 'XLI', 'Toyota', 2011, 'Black')\n",
    "\n",
    "C5.prnt()"
   ]
  },
  {
   "cell_type": "code",
   "execution_count": null,
   "metadata": {},
   "outputs": [],
   "source": []
  }
 ],
 "metadata": {
  "kernelspec": {
   "display_name": "Python 3",
   "language": "python",
   "name": "python3"
  },
  "language_info": {
   "codemirror_mode": {
    "name": "ipython",
    "version": 3
   },
   "file_extension": ".py",
   "mimetype": "text/x-python",
   "name": "python",
   "nbconvert_exporter": "python",
   "pygments_lexer": "ipython3",
   "version": "3.7.4"
  }
 },
 "nbformat": 4,
 "nbformat_minor": 2
}
