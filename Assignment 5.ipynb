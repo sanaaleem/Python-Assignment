{
 "cells": [
  {
   "cell_type": "code",
   "execution_count": 21,
   "metadata": {},
   "outputs": [
    {
     "name": "stdout",
     "output_type": "stream",
     "text": [
      "Enter Number to Calculate It's Factorial: 6\n",
      "720\n"
     ]
    }
   ],
   "source": [
    "\"\"\"\n",
    "Question:1 Write a Python function to calculate the factorial of a number (a non-negative\n",
    "integer).The function accepts the number as an argument.\n",
    "\"\"\"\n",
    "\n",
    "def CHECKING_IF_POSITIVE_INTEGER(number):\n",
    "    if int(number) > 0 :\n",
    "        return True\n",
    "    else :\n",
    "        return False\n",
    "    \n",
    "def CALCULATE_FACTORIAL(number):\n",
    "    factorial = 1\n",
    "    if CHECKING_IF_POSITIVE_INTEGER(number) == True :\n",
    "        number = int(number)\n",
    "        for a in range(1, number + 1) :\n",
    "            factorial = factorial * a\n",
    "        print(factorial)\n",
    "    else :\n",
    "        print(\"Invalid input\")\n",
    "\n",
    "Factorial_Calculate = input(\"Enter Number to Calculate It's Factorial: \")\n",
    "CALCULATE_FACTORIAL(Factorial_Calculate)\n"
   ]
  },
  {
   "cell_type": "code",
   "execution_count": 34,
   "metadata": {},
   "outputs": [
    {
     "name": "stdout",
     "output_type": "stream",
     "text": [
      "Enter Any CamelCase String: MarIuMaRiF\n",
      "Upper Case Letters in the String are : 5\n",
      "Lower Case letters in the String are : 5\n"
     ]
    }
   ],
   "source": [
    "\"\"\"\n",
    "Question:2 Write a Python function that accepts a string and calculate the number of upper case letters and lower case letters. \n",
    "\"\"\"\n",
    "def CaseCounter(string) :\n",
    "    upper = 0\n",
    "    lower = 0\n",
    "\n",
    "    for a in string:\n",
    "        if a.isupper() : \n",
    "            upper += 1\n",
    "        elif a.islower() :\n",
    "            lower += 1\n",
    "    print(\"Upper Case Letters in the String are :\" , upper)\n",
    "    print(\"Lower Case letters in the String are :\" , lower)\n",
    "\n",
    "string = input(\"Enter Any CamelCase String: \")\n",
    "CaseCounter(string)\n",
    "\n",
    "\n"
   ]
  },
  {
   "cell_type": "code",
   "execution_count": 36,
   "metadata": {},
   "outputs": [
    {
     "name": "stdout",
     "output_type": "stream",
     "text": [
      "0\n",
      "2\n",
      "4\n",
      "6\n",
      "8\n",
      "10\n"
     ]
    }
   ],
   "source": [
    "\"\"\"\n",
    "Question:3 Write a Python function to print the even numbers from a given list.\n",
    "\"\"\"\n",
    "List = [0, 1, 2, 3, 4, 5, 6, 7, 8, 9, 10]\n",
    "\n",
    "for x in List :\n",
    "    if x % 2 == 0 :\n",
    "        print(x)\n"
   ]
  },
  {
   "cell_type": "code",
   "execution_count": 42,
   "metadata": {},
   "outputs": [
    {
     "name": "stdout",
     "output_type": "stream",
     "text": [
      "Enter any word: Never Odd Or Even\n",
      "Never Odd Or Even is a Palindrome\n"
     ]
    }
   ],
   "source": [
    "\"\"\"\n",
    "Question:4 Write a Python function that checks whether a passed string is palindrome or not. Note: A palindrome is a word, \n",
    "phrase, or sequence that reads the same backward as forward, e.g., madam \n",
    "\"\"\"\n",
    "\n",
    "def isPalindrome(a) :\n",
    "        firstHalf = []\n",
    "        secondHalf = []\n",
    "        if len(a) % 2 == 1 :\n",
    "            oddList = (len(a) // 2)\n",
    "            \n",
    "            for element in range(oddList) :\n",
    "                firstHalf.append(a[element])\n",
    "                \n",
    "            for element in range(-1, -(len(a)-oddList), -1) :\n",
    "                secondHalf.append(a[element])\n",
    "        else:\n",
    "            print(\"Not Palindrome Word\")\n",
    "        palindrom = False\n",
    "        for element in range(len(firstHalf)):\n",
    "            if firstHalf[element] == secondHalf[element]:\n",
    "                palindrom = True\n",
    "        if palindrom == True:\n",
    "            print(\"{} is a Palindrome\".format(a))\n",
    "        else:\n",
    "            print(\"Not a palindrome\")\n",
    "            \n",
    "            \n",
    "a = input('Enter any word: ')\n",
    "isPalindrome(a)\n",
    "\n"
   ]
  },
  {
   "cell_type": "code",
   "execution_count": 47,
   "metadata": {},
   "outputs": [
    {
     "name": "stdout",
     "output_type": "stream",
     "text": [
      "Enter any number: 7\n",
      "7 is a prime number.\n"
     ]
    }
   ],
   "source": [
    "\"\"\"\n",
    "Question:5 Write a Python function that takes a number as a parameter and check the number is prime or not. \n",
    "\"\"\"\n",
    "def isPositiveInteger(number):\n",
    "    try:\n",
    "        number = int(number)\n",
    "        return True\n",
    "    except:\n",
    "        return False\n",
    "\n",
    "def checkPrime(number):\n",
    "    isPrime = isPositiveInteger(number)\n",
    "    if isPrime:\n",
    "        number = int(number)\n",
    "        for i in range(2, number):\n",
    "            if (number % i == 0):\n",
    "                print(\"Not a prime Number\")\n",
    "                print(\"{} times {} is a {}.\".format(i, number // i, number))\n",
    "                break\n",
    "            else:\n",
    "                print(\"{} is a prime number.\".format(number))\n",
    "                break\n",
    "    else:\n",
    "        print(\"Enter positive integers only\")\n",
    "        \n",
    "number = input(\"Enter any number: \")\n",
    "checkPrime(number)\n",
    "\n",
    "\n"
   ]
  },
  {
   "cell_type": "code",
   "execution_count": 50,
   "metadata": {},
   "outputs": [
    {
     "name": "stdout",
     "output_type": "stream",
     "text": [
      "Enter Shopping item [-1 to abort]: Milk\n",
      "Enter Shopping item [-1 to abort]: Oil\n",
      "Enter Shopping item [-1 to abort]: Chocolates\n",
      "Enter Shopping item [-1 to abort]: -1\n",
      "You purchased: Milk\n",
      "You purchased: Oil\n",
      "You purchased: Chocolates\n"
     ]
    }
   ],
   "source": [
    "\"\"\"\n",
    "Question: 6 Suppose a customer is shopping in a market and you need to print all the items which user bought from market. \n",
    "Write a function which accepts the multiple arguments of user shopping list and print all the items which user bought from \n",
    "market. (Hint: Arbitrary Argument concept can make this task ease) \n",
    "\"\"\"\n",
    "def shoppingList(*items):\n",
    "    shoppingItems = []\n",
    "    while True:\n",
    "        item = input(\"Enter Shopping item [-1 to abort]: \")\n",
    "        if item != '-1':\n",
    "            shoppingItems.append(item)\n",
    "        else:\n",
    "            break\n",
    "    for item in range(len(shoppingItems)):\n",
    "        print(\"You purchased: {}\".format(shoppingItems[item]))\n",
    "shoppingList()\n"
   ]
  },
  {
   "cell_type": "code",
   "execution_count": null,
   "metadata": {},
   "outputs": [],
   "source": []
  }
 ],
 "metadata": {
  "kernelspec": {
   "display_name": "Python 3",
   "language": "python",
   "name": "python3"
  },
  "language_info": {
   "codemirror_mode": {
    "name": "ipython",
    "version": 3
   },
   "file_extension": ".py",
   "mimetype": "text/x-python",
   "name": "python",
   "nbconvert_exporter": "python",
   "pygments_lexer": "ipython3",
   "version": "3.7.4"
  }
 },
 "nbformat": 4,
 "nbformat_minor": 2
}
