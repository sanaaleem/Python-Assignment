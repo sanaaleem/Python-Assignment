{
 "cells": [
  {
   "cell_type": "code",
   "execution_count": 3,
   "metadata": {},
   "outputs": [
    {
     "name": "stdout",
     "output_type": "stream",
     "text": [
      "123\n",
      "456\n",
      "789\n",
      "\n",
      "\n",
      "\n"
     ]
    }
   ],
   "source": [
    "# Numpy Library\n",
    "#Reading file\n",
    "with open('untitled.txt') as practiceFile: #with keyword: jb file pori read hujati ha tou ye keyword close krdeta ha file ko\n",
    "    contents = practiceFile.read()\n",
    "    print(contents)"
   ]
  },
  {
   "cell_type": "code",
   "execution_count": 4,
   "metadata": {},
   "outputs": [
    {
     "name": "stdout",
     "output_type": "stream",
     "text": [
      "123\n",
      "456\n",
      "789\n"
     ]
    }
   ],
   "source": [
    "with open('untitled.txt') as practiceFile: \n",
    "    contents = practiceFile.read()\n",
    "    print(contents.rstrip()) #rstrip() method spaces aur empty space ko neglect krdeta ha"
   ]
  },
  {
   "cell_type": "code",
   "execution_count": 6,
   "metadata": {},
   "outputs": [
    {
     "name": "stdout",
     "output_type": "stream",
     "text": [
      "Marium\n",
      "Hamza\n",
      "Asad\n",
      "Hina\n",
      "Arif\n"
     ]
    }
   ],
   "source": [
    "#Ab folder k ander kch files hou aur us file se data get hou\n",
    "with open('Untitled Folder/untitled2.txt') as practiceFile: \n",
    "    contents = practiceFile.read()\n",
    "    print(contents.rstrip()) "
   ]
  },
  {
   "cell_type": "code",
   "execution_count": 7,
   "metadata": {},
   "outputs": [
    {
     "name": "stdout",
     "output_type": "stream",
     "text": [
      "Marium\n",
      "Hamza\n",
      "Asad\n",
      "Hina\n",
      "Arif\n"
     ]
    }
   ],
   "source": [
    "filePath = 'Untitled Folder/untitled2.txt'\n",
    "with open(filePath) as practiceFile: \n",
    "    contents = practiceFile.read()\n",
    "    print(contents.rstrip()) "
   ]
  },
  {
   "cell_type": "code",
   "execution_count": 10,
   "metadata": {},
   "outputs": [
    {
     "name": "stdout",
     "output_type": "stream",
     "text": [
      "123\n",
      "\n",
      "456\n",
      "\n",
      "789\n",
      "\n",
      "\n",
      "\n",
      "\n",
      "\n"
     ]
    }
   ],
   "source": [
    "filePath = 'untitled.txt'\n",
    "\n",
    "with open(filePath) as practiceFile:\n",
    "    contents = practiceFile.readlines()   #with k scope k bahir print krwaenge tu readlines lgega \n",
    "    \n",
    "for line in contents:#with k scope k bahir for in ka loop chala k contents print krwa rhe hain\n",
    "    print(line)"
   ]
  },
  {
   "cell_type": "code",
   "execution_count": 11,
   "metadata": {},
   "outputs": [
    {
     "name": "stdout",
     "output_type": "stream",
     "text": [
      "123\n",
      "456\n",
      "789\n",
      "\n",
      "\n"
     ]
    }
   ],
   "source": [
    "filePath = 'untitled.txt'\n",
    "\n",
    "with open(filePath) as practiceFile:\n",
    "    contents = practiceFile.readlines()   #with k scope k bahir print krwaenge tu readlines lgega \n",
    "    \n",
    "for line in contents:#with k scope k bahir for in ka loop chala k contents print krwa rhe hain\n",
    "    print(line.rstrip())"
   ]
  },
  {
   "cell_type": "code",
   "execution_count": 13,
   "metadata": {},
   "outputs": [
    {
     "name": "stdout",
     "output_type": "stream",
     "text": [
      "123456789\n"
     ]
    }
   ],
   "source": [
    "#Printing on same line\n",
    "filePath = 'untitled.txt'\n",
    "\n",
    "with open(filePath) as practiceFile:\n",
    "    contents = practiceFile.readlines()\n",
    "    \n",
    "oneline = \"\" #empty variable\n",
    "\n",
    "for line in contents:\n",
    "    oneline += line.rstrip()\n",
    "    \n",
    "print(oneline)"
   ]
  },
  {
   "cell_type": "code",
   "execution_count": 15,
   "metadata": {},
   "outputs": [
    {
     "name": "stdout",
     "output_type": "stream",
     "text": [
      "123456 still continue\n",
      "9\n"
     ]
    }
   ],
   "source": [
    "filePath = 'untitled.txt'\n",
    "\n",
    "with open(filePath) as practiceFile:\n",
    "    contents = practiceFile.readlines()\n",
    "    \n",
    "oneline = \"\" #empty variable\n",
    "\n",
    "for line in contents:\n",
    "    oneline += line.rstrip()\n",
    "    \n",
    "print(oneline[:6] + \" still continue\")   #slicing #slicing mei 1 minus tk print huta ha\n",
    "print(len(oneline))  #slicing krne se length pe farq nhi para"
   ]
  },
  {
   "cell_type": "code",
   "execution_count": 19,
   "metadata": {},
   "outputs": [],
   "source": [
    "#Writing on file\n",
    "filepath= 'untitled.txt'\n",
    "\n",
    "with open(filepath, \"w\") as practicefile: # W is ensuring k ye write ka operation ha # read k lye r isi lye nhi likhte kyu k by default with ka method read ko support krrha huta ha\n",
    "    practicefile.write(\"000 \\n\")\n",
    "    practicefile.write(\"111\")\n",
    "\n",
    "    "
   ]
  },
  {
   "cell_type": "code",
   "execution_count": 20,
   "metadata": {},
   "outputs": [],
   "source": [
    "# write puranay contents ko remove krdeta ha\n",
    "#append puranay aur naye dono contents ko secure rkhta ha"
   ]
  },
  {
   "cell_type": "code",
   "execution_count": 22,
   "metadata": {},
   "outputs": [],
   "source": [
    "filepath= 'untitled.txt'\n",
    "\n",
    "with open(filepath, \"a\") as practicefile:  \n",
    "    practicefile.write(\"\\n 222 \\n\")\n",
    "    practicefile.write(\"111\")"
   ]
  },
  {
   "cell_type": "code",
   "execution_count": 23,
   "metadata": {},
   "outputs": [
    {
     "name": "stdout",
     "output_type": "stream",
     "text": [
      "This operation cannot be performed\n"
     ]
    }
   ],
   "source": [
    "# 5/0 pr python zero division error deta ha\n",
    "# They are called exceptions\n",
    "# Controlling the exceptions with may appear\n",
    "\n",
    "firstnum = 5\n",
    "secondnum = 0\n",
    "\n",
    "\"\"\"for this purpose we use try and catch block. try k andar ek block of code ko try krte ho aur catch\n",
    "mei usse anay walay error ko handle krte hou, but in python there are try and except blocks.\"\"\"\n",
    "\n",
    "try:\n",
    "    answer = firstnum / secondnum\n",
    "    \n",
    "except ZeroDivisionError:\n",
    "    print(\"This operation cannot be performed\")\n",
    "    \n",
    "else:\n",
    "    print(answer)\n",
    "    "
   ]
  },
  {
   "cell_type": "code",
   "execution_count": 24,
   "metadata": {},
   "outputs": [
    {
     "name": "stdout",
     "output_type": "stream",
     "text": [
      "1.6666666666666667\n"
     ]
    }
   ],
   "source": [
    "firstnum = 5\n",
    "secondnum = 3\n",
    "\n",
    "try:\n",
    "    answer = firstnum / secondnum\n",
    "    \n",
    "except ZeroDivisionError:\n",
    "    print(\"This operation cannot be performed\")\n",
    "    \n",
    "else:\n",
    "    print(answer)\n",
    "    "
   ]
  },
  {
   "cell_type": "code",
   "execution_count": 26,
   "metadata": {},
   "outputs": [
    {
     "name": "stdout",
     "output_type": "stream",
     "text": [
      "Your file path is incorrect!\n"
     ]
    }
   ],
   "source": [
    "try:\n",
    "    with open(\"untitled3.txt\") as practicefile:\n",
    "        contents = practicefile.read()\n",
    "\n",
    "except FileNotFoundError:\n",
    "    print(\"Your file path is incorrect!\")\n",
    "    \n",
    "else:\n",
    "    print(contents)"
   ]
  },
  {
   "cell_type": "code",
   "execution_count": 35,
   "metadata": {},
   "outputs": [
    {
     "name": "stdout",
     "output_type": "stream",
     "text": [
      "['Name', 'Dob', 'Gender']\n",
      "['marium', '2-Oct', 'female']\n",
      "['asad', '26-Nov', 'male']\n",
      "['hamza', '26-Nov', 'male']\n"
     ]
    }
   ],
   "source": [
    "\"\"\"CSV (Comma Separated Values)\n",
    "Excel files are CSV files\"\"\"\n",
    "#reading from CSV files \n",
    "# MODULES\n",
    "\n",
    "import csv #ksi b module ko utilize krwane k lye import krwana prta ha\n",
    "\n",
    "# csv file ka data read krwana ha tou aapko csv.reader() likhna prta ha\n",
    "with open(\"Desktop/Book1.csv\") as practicefile:\n",
    "    contents = csv.reader(practicefile)\n",
    "    for line in contents:\n",
    "        print(line)\n",
    "    \n",
    "#for in loop initialize huga jo csv file se data la k display krega"
   ]
  },
  {
   "cell_type": "code",
   "execution_count": 43,
   "metadata": {},
   "outputs": [
    {
     "name": "stdout",
     "output_type": "stream",
     "text": [
      "3.141592653589793\n"
     ]
    }
   ],
   "source": [
    "#Built-in Modules of Python\n",
    "import math\n",
    "\n",
    "print(math.pi)"
   ]
  },
  {
   "cell_type": "code",
   "execution_count": 37,
   "metadata": {},
   "outputs": [
    {
     "name": "stdout",
     "output_type": "stream",
     "text": [
      "3.141592653589793\n"
     ]
    }
   ],
   "source": [
    "import math as mymath\n",
    "\n",
    "print(mymath.pi)"
   ]
  },
  {
   "cell_type": "code",
   "execution_count": 39,
   "metadata": {},
   "outputs": [
    {
     "name": "stdout",
     "output_type": "stream",
     "text": [
      "3.141592653589793\n"
     ]
    }
   ],
   "source": [
    "# Module ki kch particular functionality access krne k lyee\n",
    "from math import pi\n",
    "print(pi)"
   ]
  },
  {
   "cell_type": "code",
   "execution_count": 40,
   "metadata": {},
   "outputs": [],
   "source": [
    "#Floor 5.3 ko 5 krdega aur ceil 5.3 ko 6 krdega"
   ]
  },
  {
   "cell_type": "code",
   "execution_count": 41,
   "metadata": {},
   "outputs": [
    {
     "name": "stdout",
     "output_type": "stream",
     "text": [
      "3.141592653589793\n"
     ]
    }
   ],
   "source": [
    "from math import *\n",
    "print(pi)"
   ]
  },
  {
   "cell_type": "code",
   "execution_count": 47,
   "metadata": {},
   "outputs": [
    {
     "name": "stdout",
     "output_type": "stream",
     "text": [
      "6\n",
      "5\n"
     ]
    }
   ],
   "source": [
    "import math\n",
    "a = math.ceil(5.3)\n",
    "b = math.floor(5.3)\n",
    "print(a)\n",
    "print(b)"
   ]
  },
  {
   "cell_type": "code",
   "execution_count": 51,
   "metadata": {},
   "outputs": [
    {
     "ename": "ModuleNotFoundError",
     "evalue": "No module named 'import_ipynb'",
     "output_type": "error",
     "traceback": [
      "\u001b[1;31m---------------------------------------------------------------------------\u001b[0m",
      "\u001b[1;31mModuleNotFoundError\u001b[0m                       Traceback (most recent call last)",
      "\u001b[1;32m<ipython-input-51-9e5bfe55adf4>\u001b[0m in \u001b[0;36m<module>\u001b[1;34m\u001b[0m\n\u001b[1;32m----> 1\u001b[1;33m \u001b[1;32mimport\u001b[0m \u001b[0mimport_ipynb\u001b[0m\u001b[1;33m\u001b[0m\u001b[1;33m\u001b[0m\u001b[0m\n\u001b[0m\u001b[0;32m      2\u001b[0m \u001b[1;33m\u001b[0m\u001b[0m\n\u001b[0;32m      3\u001b[0m \u001b[1;32mimport\u001b[0m \u001b[0mClass9b\u001b[0m\u001b[1;33m\u001b[0m\u001b[1;33m\u001b[0m\u001b[0m\n\u001b[0;32m      4\u001b[0m \u001b[1;33m\u001b[0m\u001b[0m\n\u001b[0;32m      5\u001b[0m \u001b[0mClass9b\u001b[0m\u001b[1;33m.\u001b[0m\u001b[0madd\u001b[0m\u001b[1;33m(\u001b[0m\u001b[1;36m5\u001b[0m\u001b[1;33m,\u001b[0m\u001b[1;36m4\u001b[0m\u001b[1;33m)\u001b[0m\u001b[1;33m\u001b[0m\u001b[1;33m\u001b[0m\u001b[0m\n",
      "\u001b[1;31mModuleNotFoundError\u001b[0m: No module named 'import_ipynb'"
     ]
    }
   ],
   "source": [
    "import import_ipynb\n",
    "\n",
    "import Class9b\n",
    "\n",
    "Class9b.add(5,4)\n",
    "\n",
    "#Command to run in Terminal (to import other .ipnyb files): pip install import_ipynb\n"
   ]
  },
  {
   "cell_type": "code",
   "execution_count": null,
   "metadata": {},
   "outputs": [],
   "source": [
    "# 2 packages numpy and pandas : fundamental and imp packages of python\n",
    "# Use in linear algebra, numerical computational etc\n",
    "# numpy provides functionality of multi-dimensional array"
   ]
  },
  {
   "cell_type": "code",
   "execution_count": 58,
   "metadata": {},
   "outputs": [
    {
     "name": "stdout",
     "output_type": "stream",
     "text": [
      "[[ 1.2670611  -0.09695343  1.65540422]\n",
      " [-0.75979333  0.12790241  1.96437267]] \n",
      "\n",
      "[[ 2.5341222  -0.19390685  3.31080844]\n",
      " [-1.51958666  0.25580482  3.92874535]] \n",
      "\n",
      "[[12.67061099 -0.96953426 16.55404222]\n",
      " [-7.59793332  1.27902412 19.64372673]] \n",
      "\n",
      "(2, 3) \n",
      "\n",
      "float64 \n",
      "\n",
      "2 \n",
      "\n"
     ]
    }
   ],
   "source": [
    "import numpy as np\n",
    "\n",
    "data = np.random.randn(2,3) #it will generatre random no # 2,3 mei 2 means 2 arrays and 3 means each array mei 3 random nos chahye\n",
    "print(data, '\\n')\n",
    "\n",
    "print(data + data, '\\n')\n",
    "\n",
    "print(data * 10, '\\n')\n",
    "\n",
    "print(data.shape, '\\n') # it tells no of arrays and no of elements in each array\n",
    "\n",
    "print(data.dtype, '\\n')\n",
    "\n",
    "print(data.ndim, '\\n')"
   ]
  },
  {
   "cell_type": "code",
   "execution_count": 65,
   "metadata": {},
   "outputs": [
    {
     "name": "stdout",
     "output_type": "stream",
     "text": [
      "[0. 0. 0. 0. 0. 0. 0. 0. 0. 0.] \n",
      "\n",
      "[[0. 0. 0. 0. 0. 0.]\n",
      " [0. 0. 0. 0. 0. 0.]\n",
      " [0. 0. 0. 0. 0. 0.]] \n",
      "\n",
      "[[[0. 0. 0. 0. 0. 0.]\n",
      "  [0. 0. 0. 0. 0. 0.]\n",
      "  [0. 0. 0. 0. 0. 0.]]\n",
      "\n",
      " [[0. 0. 0. 0. 0. 0.]\n",
      "  [0. 0. 0. 0. 0. 0.]\n",
      "  [0. 0. 0. 0. 0. 0.]]] \n",
      "\n",
      "Empty [[0. 0. 0. 0. 0. 0.]\n",
      " [0. 0. 0. 0. 0. 0.]\n",
      " [0. 0. 0. 0. 0. 0.]]\n"
     ]
    }
   ],
   "source": [
    "print(np.zeros(10), '\\n') \n",
    "print(np.zeros((3,6)), '\\n') \n",
    "print(np.zeros((2,3,6)), '\\n') \n",
    "\n",
    "print(\"Empty\",np.empty((3,6)))   #empty mostly gives 0 but can also give you garbage value."
   ]
  },
  {
   "cell_type": "code",
   "execution_count": 68,
   "metadata": {},
   "outputs": [
    {
     "name": "stdout",
     "output_type": "stream",
     "text": [
      "[1 2 3 4 5]\n",
      "[1. 2. 3. 4. 5.]\n"
     ]
    }
   ],
   "source": [
    "arr = np.array([1,2,3,4,5])\n",
    "print(arr)\n",
    "print(arr.astype(np.float64))"
   ]
  },
  {
   "cell_type": "code",
   "execution_count": 79,
   "metadata": {},
   "outputs": [
    {
     "name": "stdout",
     "output_type": "stream",
     "text": [
      "[ 8  4 12 16] \n",
      "\n",
      "[16  4 36 64] \n",
      "\n",
      "[2. 1. 3. 4.] \n",
      "\n",
      "[16  4 36 64] \n",
      "\n",
      "[2.         1.41421356 2.44948974 2.82842712] \n",
      "\n",
      "[  54.59815003    7.3890561   403.42879349 2980.95798704] \n",
      "\n",
      "5.0 \n",
      "\n",
      "20 \n",
      "\n",
      "[ 4  6 12 20] \n",
      "\n",
      "[2 4 6 8] \n",
      "\n",
      "[ True  True  True  True]\n"
     ]
    }
   ],
   "source": [
    "arr = np.array([4,2,6,8], dtype = 'int64')\n",
    "print(arr * 2, '\\n')\n",
    "print(arr * arr, '\\n')\n",
    "print(arr / 2, '\\n')\n",
    "print(arr ** 2, '\\n')\n",
    "print(np.sqrt(arr), '\\n')\n",
    "print(np.exp(arr), '\\n')\n",
    "print(np.mean(arr), '\\n')\n",
    "print(np.sum(arr), '\\n')\n",
    "print(np.cumsum(arr), '\\n')\n",
    "print(np.sort(arr), '\\n')\n",
    "\n",
    "arr2= np.array([0,1,3,5])\n",
    "\n",
    "print(arr > arr2)\n"
   ]
  },
  {
   "cell_type": "code",
   "execution_count": 82,
   "metadata": {},
   "outputs": [
    {
     "name": "stdout",
     "output_type": "stream",
     "text": [
      "[0 1 2 3 4 5 6 7 8 9]\n",
      "[5 6 7]\n",
      "[0 0 0 3 4 5 6 7 8 9]\n"
     ]
    }
   ],
   "source": [
    "arr = np.arange(10)\n",
    "print(arr)\n",
    "\n",
    "#slicing\n",
    "arr2 = arr[5:8]\n",
    "print(arr2)\n",
    "\n",
    "arr[:3] = 0 \n",
    "print(arr)"
   ]
  },
  {
   "cell_type": "code",
   "execution_count": 92,
   "metadata": {},
   "outputs": [
    {
     "name": "stdout",
     "output_type": "stream",
     "text": [
      "[[-0.07726611 -0.86355047 -0.77586264]\n",
      " [-0.55028411  0.50250893  0.55080874]\n",
      " [ 1.44978252 -0.51963471  0.36459646]\n",
      " [-0.69278225 -0.98818042  1.56027081]\n",
      " [ 0.11752643  0.02621061 -0.95809351]] \n",
      "\n",
      "['Marium' 'Asad' 'Hamza' 'Marium' 'Hina'] \n",
      "\n",
      "[ True False False  True False] \n",
      "\n",
      "[[-0.07726611 -0.86355047 -0.77586264]\n",
      " [-0.69278225 -0.98818042  1.56027081]] \n",
      "\n",
      "[[-0.55028411  0.50250893  0.55080874]\n",
      " [ 1.44978252 -0.51963471  0.36459646]\n",
      " [ 0.11752643  0.02621061 -0.95809351]] \n",
      "\n",
      "['Asad' 'Hamza' 'Hina' 'Marium']\n"
     ]
    }
   ],
   "source": [
    "namesArr = np.array([\"Marium\",\"Asad\",\"Hamza\", \"Marium\", \"Hina\"])\n",
    "numArr= np.random.randn(5,3)\n",
    "\n",
    "print(numArr, '\\n')\n",
    "print(namesArr, '\\n')\n",
    "print(namesArr == \"Marium\",'\\n')\n",
    "print(numArr[namesArr == \"Marium\"],'\\n')\n",
    "print(numArr[~(namesArr == \"Marium\")],'\\n')\n",
    "\n",
    "print(np.unique(namesArr)) #sort b krdya aur multiple elements ko neglect krdya\n"
   ]
  },
  {
   "cell_type": "code",
   "execution_count": 95,
   "metadata": {},
   "outputs": [
    {
     "name": "stdout",
     "output_type": "stream",
     "text": [
      "[-1.17396264  0.41905429  1.15879731  0.29555082] \n",
      "\n",
      "[-1.96250237 -1.8029833  -0.61017547  1.23281313] \n",
      "\n",
      "[-1.17396264  0.41905429  1.15879731  1.23281313]\n",
      "\n",
      "\n",
      "[-1.96250237 -1.8029833  -0.61017547  0.29555082]\n"
     ]
    }
   ],
   "source": [
    "arr = np.random.randn(4)\n",
    "print(arr,'\\n')\n",
    "\n",
    "arr2 = np.random.randn(4)\n",
    "print(arr2,'\\n')\n",
    "\n",
    "print(np.maximum(arr,arr2)) #dono arrays k max elements ko ek array mei merge krke new array bnadi\n",
    "print('\\n')\n",
    "print(np.minimum(arr,arr2))"
   ]
  },
  {
   "cell_type": "code",
   "execution_count": null,
   "metadata": {},
   "outputs": [],
   "source": [
    "  "
   ]
  }
 ],
 "metadata": {
  "kernelspec": {
   "display_name": "Python 3",
   "language": "python",
   "name": "python3"
  },
  "language_info": {
   "codemirror_mode": {
    "name": "ipython",
    "version": 3
   },
   "file_extension": ".py",
   "mimetype": "text/x-python",
   "name": "python",
   "nbconvert_exporter": "python",
   "pygments_lexer": "ipython3",
   "version": "3.7.4"
  }
 },
 "nbformat": 4,
 "nbformat_minor": 2
}
