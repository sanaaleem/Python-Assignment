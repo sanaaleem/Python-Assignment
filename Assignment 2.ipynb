{
 "cells": [
  {
   "cell_type": "code",
   "execution_count": 1,
   "metadata": {},
   "outputs": [
    {
     "name": "stdout",
     "output_type": "stream",
     "text": [
      "Enter marks out of 100 : 55\n",
      "Enter marks out of 100 : 65\n",
      "Enter marks out of 100 : 73\n",
      "Enter marks out of 100 : 32\n",
      "Enter marks out of 100 : 60\n",
      "Total Sum of Marks = 285\n",
      "Percentage = 57.0\n",
      "grade C\n"
     ]
    }
   ],
   "source": [
    "\"\"\"\n",
    "Question no. 1:\n",
    "Write a program which takes 5 inputs from user for different subject’s marks, total it and generate mark sheet using grades ?\n",
    "\"\"\"\n",
    "marks=[]\n",
    "total_sum_of_marks = 0;\n",
    "for i in range (5):\n",
    "    x=int(input(\"Enter marks out of 100 : \"))\n",
    "    marks.append(x)\n",
    "    total_sum_of_marks = total_sum_of_marks + x\n",
    "\n",
    "print(\"Total Sum of Marks =\", total_sum_of_marks)  \n",
    "percentage=(total_sum_of_marks * 100) / 500\n",
    "print(\"Percentage =\",percentage)\n",
    "if percentage >= 80:\n",
    "    print(\"grade A+\")\n",
    "elif percentage >= 70:\n",
    "    print(\"grade A\")\n",
    "elif percentage >= 60:\n",
    "    print(\"grade B\")    \n",
    "elif percentage >= 50:\n",
    "    print(\"grade C\")\n",
    "elif percentage >= 40 :\n",
    "    print(\"grade D\")\n",
    "else:\n",
    "    print(\"Fail\")"
   ]
  },
  {
   "cell_type": "code",
   "execution_count": 4,
   "metadata": {},
   "outputs": [
    {
     "name": "stdout",
     "output_type": "stream",
     "text": [
      "Enter a number: 34\n",
      "Even Number\n"
     ]
    }
   ],
   "source": [
    "\"\"\"\n",
    "Question no. 2:\n",
    "Write a program which take input from user and identify that the given number is even or odd? \n",
    "\"\"\"\n",
    "a = int(input(\"Enter a number: \"))\n",
    "if a % 2 == 0:\n",
    "    print(\"Even Number\")\n",
    "else:\n",
    "    print(\"Odd Number\")"
   ]
  },
  {
   "cell_type": "code",
   "execution_count": 2,
   "metadata": {},
   "outputs": [
    {
     "name": "stdout",
     "output_type": "stream",
     "text": [
      "Length of the list is:  5\n"
     ]
    }
   ],
   "source": [
    "\"\"\"\n",
    "Question no. 3:\n",
    "Write a program which print the length of the list? \n",
    "\"\"\"\n",
    "list = [\"ABC\", 66, 'C', 44.5, 90]\n",
    "print(\"Length of the list is: \",len(list))"
   ]
  },
  {
   "cell_type": "code",
   "execution_count": 3,
   "metadata": {},
   "outputs": [
    {
     "name": "stdout",
     "output_type": "stream",
     "text": [
      "Sum of all the numeric items in a list is :  21\n"
     ]
    }
   ],
   "source": [
    "\"\"\"\n",
    "Question no. 4:\n",
    "Write a Python program to sum all the numeric items in a list? \n",
    "\"\"\"\n",
    "list = [1, 2, 3, 4, 5, 6]\n",
    "lengthoflist =len(list)\n",
    "sum = 0\n",
    "for i in range (lengthoflist):\n",
    "    sum = sum + list[i]\n",
    "print(\"Sum of all the numeric items in a list is : \",sum)"
   ]
  },
  {
   "cell_type": "code",
   "execution_count": 4,
   "metadata": {},
   "outputs": [
    {
     "name": "stdout",
     "output_type": "stream",
     "text": [
      "Largest/Maximum number of the list is:  400\n"
     ]
    }
   ],
   "source": [
    "\"\"\"\n",
    "Question no. 5:\n",
    "Write a Python program to get the largest number from a numeric list. \n",
    "\"\"\"\n",
    "list = [100, 200, 300, 400]\n",
    "print(\"Largest/Maximum number of the list is: \", max(list))"
   ]
  },
  {
   "cell_type": "code",
   "execution_count": 21,
   "metadata": {},
   "outputs": [
    {
     "name": "stdout",
     "output_type": "stream",
     "text": [
      "List of elements that are less than 5 is: \n",
      "1\n",
      "1\n",
      "2\n",
      "3\n"
     ]
    }
   ],
   "source": [
    "\"\"\"\n",
    "Question no. 6:\n",
    "Take a list, say for example this one: \n",
    "   a = [1, 1, 2, 3, 5, 8, 13, 21, 34, 55, 89] \n",
    "and write a program that prints out all the elements of the list that are less than 5.\n",
    "\"\"\"\n",
    "a = [1, 1, 2, 3, 5, 8, 13, 21, 34, 55, 89]\n",
    "b = len(list)\n",
    "print(\"List of elements that are less than 5 is: \")\n",
    "for i in range(b):\n",
    "    if list[i]<5:\n",
    "        print(list[i])"
   ]
  },
  {
   "cell_type": "code",
   "execution_count": null,
   "metadata": {},
   "outputs": [],
   "source": []
  },
  {
   "cell_type": "code",
   "execution_count": null,
   "metadata": {},
   "outputs": [],
   "source": [
    "\n"
   ]
  },
  {
   "cell_type": "code",
   "execution_count": null,
   "metadata": {},
   "outputs": [],
   "source": []
  },
  {
   "cell_type": "code",
   "execution_count": null,
   "metadata": {},
   "outputs": [],
   "source": []
  }
 ],
 "metadata": {
  "kernelspec": {
   "display_name": "Python 3",
   "language": "python",
   "name": "python3"
  },
  "language_info": {
   "codemirror_mode": {
    "name": "ipython",
    "version": 3
   },
   "file_extension": ".py",
   "mimetype": "text/x-python",
   "name": "python",
   "nbconvert_exporter": "python",
   "pygments_lexer": "ipython3",
   "version": "3.7.4"
  }
 },
 "nbformat": 4,
 "nbformat_minor": 2
}
