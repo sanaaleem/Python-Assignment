{
 "cells": [
  {
   "cell_type": "code",
   "execution_count": 1,
   "metadata": {},
   "outputs": [
    {
     "name": "stdout",
     "output_type": "stream",
     "text": [
      "('Marium', 'Hamza', 'Asad')\n"
     ]
    }
   ],
   "source": [
    "tuplee = ('Marium', 'Hamza', 'Asad')\n",
    "print(tuplee)"
   ]
  },
  {
   "cell_type": "code",
   "execution_count": 5,
   "metadata": {},
   "outputs": [
    {
     "ename": "TypeError",
     "evalue": "'tuple' object does not support item assignment",
     "output_type": "error",
     "traceback": [
      "\u001b[1;31m---------------------------------------------------------------------------\u001b[0m",
      "\u001b[1;31mTypeError\u001b[0m                                 Traceback (most recent call last)",
      "\u001b[1;32m<ipython-input-5-6c15441e894b>\u001b[0m in \u001b[0;36m<module>\u001b[1;34m\u001b[0m\n\u001b[1;32m----> 1\u001b[1;33m \u001b[0mtuplee\u001b[0m\u001b[1;33m[\u001b[0m\u001b[1;36m1\u001b[0m\u001b[1;33m]\u001b[0m\u001b[1;33m=\u001b[0m \u001b[1;34m'Hina'\u001b[0m\u001b[1;33m\u001b[0m\u001b[1;33m\u001b[0m\u001b[0m\n\u001b[0m\u001b[0;32m      2\u001b[0m \u001b[0mprint\u001b[0m\u001b[1;33m(\u001b[0m\u001b[0mtuplee\u001b[0m\u001b[1;33m)\u001b[0m\u001b[1;33m\u001b[0m\u001b[1;33m\u001b[0m\u001b[0m\n",
      "\u001b[1;31mTypeError\u001b[0m: 'tuple' object does not support item assignment"
     ]
    }
   ],
   "source": [
    "tuplee[1]= 'Hina'"
   ]
  },
  {
   "cell_type": "code",
   "execution_count": 6,
   "metadata": {},
   "outputs": [
    {
     "name": "stdout",
     "output_type": "stream",
     "text": [
      "('Marium', 'Hamza', 'Asad')\n"
     ]
    }
   ],
   "source": [
    "print(tuplee)        #Hence it can be seen that the values of tuple cannot be change. that's the main diff b/w list and tuple\n",
    "#List can be editable but tuple cannot be editable "
   ]
  },
  {
   "cell_type": "code",
   "execution_count": 7,
   "metadata": {},
   "outputs": [
    {
     "data": {
      "text/plain": [
       "'Marium'"
      ]
     },
     "execution_count": 7,
     "metadata": {},
     "output_type": "execute_result"
    }
   ],
   "source": [
    "tuplee[0]"
   ]
  },
  {
   "cell_type": "code",
   "execution_count": null,
   "metadata": {},
   "outputs": [],
   "source": [
    "value1= int(input(\"Enter first operand: \"))\n",
    "value2= int(input(\"Enter second operand: \"))\n",
    "operator= input(\"Enter the operation which you want to perform on these two operands: \")\n",
    "\n",
    "if operator == \"+\" :\n",
    "    answer= value1 + value2\n",
    "    #print(\"{0} + {1} = {2}\", value1, value2, answer)\n",
    "    print(value1, \"+\", value2, \"=\", answer)\n",
    "    \n",
    "elif operator == \"-\" :\n",
    "    answer= value1 - value2\n",
    "    print(value1, \"-\", value2, \"=\", answer)\n",
    "    \n",
    "elif operator == \"*\" :\n",
    "    answer= value1 * value2\n",
    "    print(value1, \"*\", value2, \"=\", answer)\n",
    "    \n",
    "elif operator == \"/\" :\n",
    "    answer= value1 / value2\n",
    "    print(value1, \"/\", value2, \"=\", answer)\n",
    "\n",
    "else :\n",
    "    print(\"You have entered the incorrect operator. Please re-enter the operator\")\n",
    "    operator= input(\"Enter the operation which you want to perform on these two operands: \")\n",
    "\n",
    "if operator == \"+\" :\n",
    "    answer= value1 + value2\n",
    "    #print(\"{0} + {1} = {2}\", value1, value2, answer)\n",
    "    print(value1, \"+\", value2, \"=\", answer)\n",
    "    \n",
    "elif operator == \"-\" :\n",
    "    answer= value1 - value2\n",
    "    print(value1, \"-\", value2, \"=\", answer)\n",
    "    \n",
    "elif operator == \"*\" :\n",
    "    answer= value1 * value2\n",
    "    print(value1, \"*\", value2, \"=\", answer)\n",
    "    \n",
    "elif operator == \"/\" :\n",
    "    answer= value1 / value2\n",
    "    print(value1, \"/\", value2, \"=\", answer)\n",
    "\n",
    "\n",
    "    "
   ]
  },
  {
   "cell_type": "code",
   "execution_count": 19,
   "metadata": {},
   "outputs": [
    {
     "name": "stdout",
     "output_type": "stream",
     "text": [
      "Isl\n",
      "Karachi\n",
      "Fsd\n",
      "Lhr\n"
     ]
    }
   ],
   "source": [
    "#for loop is used in list in python         #slice method\n",
    "\n",
    "cleanest_cities = [\"Isl\", \"Karachi\", \"Fsd\", \"Lhr\"]\n",
    "\n",
    "for a_clean_city in cleanest_cities :\n",
    "    print(a_clean_city)\n"
   ]
  },
  {
   "cell_type": "code",
   "execution_count": 27,
   "metadata": {},
   "outputs": [
    {
     "name": "stdout",
     "output_type": "stream",
     "text": [
      "Enter cityLhr\n",
      "this is not the cleanest city\n",
      "this is not the cleanest city\n",
      "this is not the cleanest city\n",
      "this is the cleanest city\n"
     ]
    }
   ],
   "source": [
    "cleanest_cities = [\"Isl\", \"Karachi\", \"Fsd\", \"Lhr\"]\n",
    "\n",
    "value= input(\"Enter city\")\n",
    "\n",
    "for i in cleanest_cities :\n",
    "    if value == i :\n",
    "        print(\"this is the cleanest city\")\n",
    "        break\n",
    "    else :\n",
    "        print(\"this is not the cleanest city\")\n",
    "        #break\n",
    "        \n",
    "        #assignment: To search for the code and write it in a single line"
   ]
  },
  {
   "cell_type": "code",
   "execution_count": 28,
   "metadata": {},
   "outputs": [],
   "source": [
    "#python is a interpreted language\n",
    "#for is used for repetition of the values\n",
    "#for single value you can use index value\n",
    "#but for whole list you use for loop \n"
   ]
  },
  {
   "cell_type": "code",
   "execution_count": 29,
   "metadata": {},
   "outputs": [
    {
     "name": "stdout",
     "output_type": "stream",
     "text": [
      "['Asad Arif']\n",
      "['Asad Arif', 'Asad Hina']\n",
      "['Asad Arif', 'Asad Hina', 'Asad Khan']\n",
      "['Asad Arif', 'Asad Hina', 'Asad Khan', 'Hamza Arif']\n",
      "['Asad Arif', 'Asad Hina', 'Asad Khan', 'Hamza Arif', 'Hamza Hina']\n",
      "['Asad Arif', 'Asad Hina', 'Asad Khan', 'Hamza Arif', 'Hamza Hina', 'Hamza Khan']\n",
      "['Asad Arif', 'Asad Hina', 'Asad Khan', 'Hamza Arif', 'Hamza Hina', 'Hamza Khan', 'Marium Arif']\n",
      "['Asad Arif', 'Asad Hina', 'Asad Khan', 'Hamza Arif', 'Hamza Hina', 'Hamza Khan', 'Marium Arif', 'Marium Hina']\n",
      "['Asad Arif', 'Asad Hina', 'Asad Khan', 'Hamza Arif', 'Hamza Hina', 'Hamza Khan', 'Marium Arif', 'Marium Hina', 'Marium Khan']\n",
      "['Asad Arif', 'Asad Hina', 'Asad Khan', 'Hamza Arif', 'Hamza Hina', 'Hamza Khan', 'Marium Arif', 'Marium Hina', 'Marium Khan', 'Ali Arif']\n",
      "['Asad Arif', 'Asad Hina', 'Asad Khan', 'Hamza Arif', 'Hamza Hina', 'Hamza Khan', 'Marium Arif', 'Marium Hina', 'Marium Khan', 'Ali Arif', 'Ali Hina']\n",
      "['Asad Arif', 'Asad Hina', 'Asad Khan', 'Hamza Arif', 'Hamza Hina', 'Hamza Khan', 'Marium Arif', 'Marium Hina', 'Marium Khan', 'Ali Arif', 'Ali Hina', 'Ali Khan']\n"
     ]
    }
   ],
   "source": [
    "first_names = [\"Asad\", \"Hamza\", \"Marium\", \"Ali\"]\n",
    "last_names = [\"Arif\", \"Hina\", \"Khan\"]\n",
    "full_names = []\n",
    "\n",
    "for a in first_names : #outer for loop\n",
    "    for b in last_names : #inner for loop\n",
    "        full_names.append(a + \" \" + b)\n",
    "        print(full_names)\n",
    "        "
   ]
  },
  {
   "cell_type": "code",
   "execution_count": 30,
   "metadata": {},
   "outputs": [
    {
     "name": "stdout",
     "output_type": "stream",
     "text": [
      "['Asad Arif', 'Asad Hina', 'Asad Khan', 'Hamza Arif', 'Hamza Hina', 'Hamza Khan', 'Marium Arif', 'Marium Hina', 'Marium Khan', 'Ali Arif', 'Ali Hina', 'Ali Khan']\n"
     ]
    }
   ],
   "source": [
    "first_names = [\"Asad\", \"Hamza\", \"Marium\", \"Ali\"]\n",
    "last_names = [\"Arif\", \"Hina\", \"Khan\"]\n",
    "full_names = []\n",
    "\n",
    "for a in first_names : \n",
    "    for b in last_names : \n",
    "        full_names.append(a + \" \" + b)\n",
    "print(full_names)"
   ]
  },
  {
   "cell_type": "code",
   "execution_count": 31,
   "metadata": {},
   "outputs": [],
   "source": [
    "#In above two examples see the difference of indentation :)"
   ]
  },
  {
   "cell_type": "code",
   "execution_count": 32,
   "metadata": {},
   "outputs": [
    {
     "name": "stdout",
     "output_type": "stream",
     "text": [
      "10.0\n"
     ]
    }
   ],
   "source": [
    "a = 10\n",
    "b = float(a)\n",
    "print(b)"
   ]
  },
  {
   "cell_type": "code",
   "execution_count": 33,
   "metadata": {},
   "outputs": [
    {
     "ename": "TypeError",
     "evalue": "can only concatenate str (not \"int\") to str",
     "output_type": "error",
     "traceback": [
      "\u001b[1;31m---------------------------------------------------------------------------\u001b[0m",
      "\u001b[1;31mTypeError\u001b[0m                                 Traceback (most recent call last)",
      "\u001b[1;32m<ipython-input-33-956f85e4a7c8>\u001b[0m in \u001b[0;36m<module>\u001b[1;34m\u001b[0m\n\u001b[0;32m      2\u001b[0m \u001b[0mb\u001b[0m \u001b[1;33m=\u001b[0m \u001b[0mstr\u001b[0m\u001b[1;33m(\u001b[0m\u001b[0ma\u001b[0m\u001b[1;33m)\u001b[0m\u001b[1;33m\u001b[0m\u001b[1;33m\u001b[0m\u001b[0m\n\u001b[0;32m      3\u001b[0m \u001b[0mc\u001b[0m \u001b[1;33m=\u001b[0m \u001b[1;36m15\u001b[0m\u001b[1;33m\u001b[0m\u001b[1;33m\u001b[0m\u001b[0m\n\u001b[1;32m----> 4\u001b[1;33m \u001b[0md\u001b[0m \u001b[1;33m=\u001b[0m \u001b[0mb\u001b[0m \u001b[1;33m+\u001b[0m \u001b[0mc\u001b[0m\u001b[1;33m\u001b[0m\u001b[1;33m\u001b[0m\u001b[0m\n\u001b[0m\u001b[0;32m      5\u001b[0m \u001b[0mprint\u001b[0m\u001b[1;33m(\u001b[0m\u001b[0md\u001b[0m\u001b[1;33m)\u001b[0m\u001b[1;33m\u001b[0m\u001b[1;33m\u001b[0m\u001b[0m\n",
      "\u001b[1;31mTypeError\u001b[0m: can only concatenate str (not \"int\") to str"
     ]
    }
   ],
   "source": [
    "a = 10\n",
    "b = str(a)\n",
    "c = 15\n",
    "d = b + c\n",
    "print(d)"
   ]
  },
  {
   "cell_type": "code",
   "execution_count": 38,
   "metadata": {},
   "outputs": [
    {
     "name": "stdout",
     "output_type": "stream",
     "text": [
      "MARIUM\n"
     ]
    }
   ],
   "source": [
    "a = 'mariuM'\n",
    "print(a.upper())"
   ]
  },
  {
   "cell_type": "code",
   "execution_count": 37,
   "metadata": {},
   "outputs": [
    {
     "name": "stdout",
     "output_type": "stream",
     "text": [
      "marium\n"
     ]
    }
   ],
   "source": [
    "a = 'MARiUM'\n",
    "print(a.lower())"
   ]
  },
  {
   "cell_type": "code",
   "execution_count": 36,
   "metadata": {},
   "outputs": [
    {
     "name": "stdout",
     "output_type": "stream",
     "text": [
      "Marium\n"
     ]
    }
   ],
   "source": [
    "a = 'marIum'\n",
    "print(a.title())"
   ]
  },
  {
   "cell_type": "code",
   "execution_count": 41,
   "metadata": {},
   "outputs": [],
   "source": [
    "#Dictionary     #Quiz App is made on dictionary (in next lec we'll make quiz application)\n",
    "#objects = property and its value\n",
    "# A car whose color is blue\n",
    "#Color is the \"PROPERTY\" of that car and blue is \"VALUE\" that property\n",
    "#Means color is KEY and blue is its value\n",
    "\n",
    "#List starts with square bracket and dictionary starts with curly brackets\n",
    "#In list we separate the values by commas, but in dictionary we separate the key and the value associated with that key with commas"
   ]
  },
  {
   "cell_type": "code",
   "execution_count": 45,
   "metadata": {},
   "outputs": [
    {
     "name": "stdout",
     "output_type": "stream",
     "text": [
      "Block-10, flat-no 10 Wellesly Street\n"
     ]
    }
   ],
   "source": [
    "customer_001 = {\n",
    "    \"first name\" : \"David\",\n",
    "    \"last name\" : \"John\",\n",
    "    \"address\" : \"Block-10, flat-no 10 Wellesly Street\"\n",
    "}\n",
    "print(customer_001[\"address\"])"
   ]
  },
  {
   "cell_type": "code",
   "execution_count": 46,
   "metadata": {},
   "outputs": [
    {
     "name": "stdout",
     "output_type": "stream",
     "text": [
      "Finland\n"
     ]
    }
   ],
   "source": [
    "rankings = {5: \"Finland\", 2:\"Norway\", 3: \"Sweden\", 7:\"Iceland\"}\n",
    "print(rankings[5])"
   ]
  },
  {
   "cell_type": "code",
   "execution_count": 47,
   "metadata": {},
   "outputs": [
    {
     "name": "stdout",
     "output_type": "stream",
     "text": [
      "{'first name': 'David', 'last name': 'John', 'address': 'Karachi'}\n"
     ]
    }
   ],
   "source": [
    "customer_001 = {\n",
    "    \"first name\" : \"David\",\n",
    "    \"last name\" : \"John\",\n",
    "    \"address\" : \"Block-10, flat-no 10 Wellesly Street\"\n",
    "}\n",
    "customer_001[\"address\"]='Karachi'\n",
    "print(customer_001)"
   ]
  },
  {
   "cell_type": "code",
   "execution_count": 48,
   "metadata": {},
   "outputs": [
    {
     "name": "stdout",
     "output_type": "stream",
     "text": [
      "{'first name': 'David', 'last name': 'John', 'address': 'Block-10, flat-no 10 Wellesly Street', 'language': 'English'}\n"
     ]
    }
   ],
   "source": [
    "customer_001 = {\n",
    "    \"first name\" : \"David\",\n",
    "    \"last name\" : \"John\",\n",
    "    \"address\" : \"Block-10, flat-no 10 Wellesly Street\"\n",
    "}\n",
    "customer_001[\"language\"]='English'\n",
    "print(customer_001)"
   ]
  },
  {
   "cell_type": "code",
   "execution_count": 49,
   "metadata": {},
   "outputs": [
    {
     "name": "stdout",
     "output_type": "stream",
     "text": [
      "{'first name': 'David', 'last name': 'John', 'language': 'English'}\n"
     ]
    }
   ],
   "source": [
    "del customer_001['address']\n",
    "print(customer_001)"
   ]
  },
  {
   "cell_type": "code",
   "execution_count": 52,
   "metadata": {},
   "outputs": [
    {
     "name": "stdout",
     "output_type": "stream",
     "text": [
      "first name Keys\n",
      "last name Keys\n",
      "language Keys\n",
      "David Values\n",
      "John Values\n",
      "English Values\n"
     ]
    }
   ],
   "source": [
    "for each_key in customer_001.keys() :\n",
    "    print(each_key, 'Keys')\n",
    "for each_value in customer_001.values() :\n",
    "    print(each_value, 'Values')"
   ]
  },
  {
   "cell_type": "code",
   "execution_count": 56,
   "metadata": {},
   "outputs": [
    {
     "name": "stdout",
     "output_type": "stream",
     "text": [
      "The customer's first name is David\n",
      "The customer's last name is John\n",
      "The customer's language is English\n"
     ]
    }
   ],
   "source": [
    "for each_key, each_value in customer_001.items() :\n",
    "    print(\"The customer's \"+ each_key + \" is \" + each_value)"
   ]
  },
  {
   "cell_type": "code",
   "execution_count": null,
   "metadata": {},
   "outputs": [],
   "source": []
  }
 ],
 "metadata": {
  "kernelspec": {
   "display_name": "Python 3",
   "language": "python",
   "name": "python3"
  },
  "language_info": {
   "codemirror_mode": {
    "name": "ipython",
    "version": 3
   },
   "file_extension": ".py",
   "mimetype": "text/x-python",
   "name": "python",
   "nbconvert_exporter": "python",
   "pygments_lexer": "ipython3",
   "version": "3.7.4"
  }
 },
 "nbformat": 4,
 "nbformat_minor": 2
}
